{
  "nbformat": 4,
  "nbformat_minor": 0,
  "metadata": {
    "kernelspec": {
      "name": "python3",
      "display_name": "Python 3"
    },
    "language_info": {
      "codemirror_mode": {
        "name": "ipython",
        "version": 3
      },
      "file_extension": ".py",
      "mimetype": "text/x-python",
      "name": "python",
      "nbconvert_exporter": "python",
      "pygments_lexer": "ipython3",
      "version": "3.7.3"
    },
    "colab": {
      "name": "3A Convolution Neural Network.ipynb",
      "provenance": []
    },
    "accelerator": "GPU"
  },
  "cells": [
    {
      "cell_type": "markdown",
      "metadata": {
        "id": "mHGXz9S_RJef",
        "colab_type": "text"
      },
      "source": [
        "# Convolutional Neural Network"
      ]
    },
    {
      "cell_type": "code",
      "metadata": {
        "id": "p3dqNZ7JRJek",
        "colab_type": "code",
        "colab": {}
      },
      "source": [
        "# Import Libraries\n",
        "# - Tensorflow\n",
        "# - Keras\n",
        "# - numpy and random\n",
        "\n",
        "import tensorflow as tf\n",
        "from tensorflow.keras import models\n",
        "from tensorflow.keras import layers\n",
        "\n",
        "import random\n",
        "import numpy as np\n",
        "\n",
        "import matplotlib.pyplot as plt\n",
        "%matplotlib inline"
      ],
      "execution_count": 0,
      "outputs": []
    },
    {
      "cell_type": "code",
      "metadata": {
        "id": "Z01-kywpRJet",
        "colab_type": "code",
        "colab": {}
      },
      "source": [
        "random.seed(42)         # Initialize the random number generator.\n",
        "np.random.seed(42)      # With the seed reset, the same set of numbers will appear every time. \n",
        "tf.random.set_seed(42)  # sets the graph-level random seed"
      ],
      "execution_count": 0,
      "outputs": []
    },
    {
      "cell_type": "markdown",
      "metadata": {
        "id": "b36sPF9TRJe7",
        "colab_type": "text"
      },
      "source": [
        "## Dataset - MNIST"
      ]
    },
    {
      "cell_type": "code",
      "metadata": {
        "id": "WWwDYFTyRJe-",
        "colab_type": "code",
        "colab": {
          "base_uri": "https://localhost:8080/",
          "height": 52
        },
        "outputId": "a6abbdd1-9a20-4377-d9f2-dbb3748e8eea"
      },
      "source": [
        "# Use the MNIST dataset  of Keras.\n",
        "\n",
        "mnist = tf.keras.datasets.mnist\n",
        "\n",
        "(Xtrain, Ytrain), (Xtest,Ytest) = mnist.load_data()\n",
        "\n",
        "# Display size of dataset\n",
        "Xtrain = Xtrain.reshape((60000,28,28,1))\n",
        "Xtrain = Xtrain.astype('float32')/255\n",
        "\n",
        "Xtest = Xtest.reshape((10000,28,28,1))\n",
        "Xtest = Xtest.astype('float32')/255\n",
        "\n",
        "Ytrain = tf.keras.utils.to_categorical(Ytrain)\n",
        "Ytest = tf.keras.utils.to_categorical(Ytest) \n",
        "\n",
        "print(Xtrain.shape, Xtest.shape)\n",
        "print(Ytrain.shape, Ytest.shape)"
      ],
      "execution_count": 19,
      "outputs": [
        {
          "output_type": "stream",
          "text": [
            "(60000, 28, 28, 1) (10000, 28, 28, 1)\n",
            "(60000, 10) (10000, 10)\n"
          ],
          "name": "stdout"
        }
      ]
    },
    {
      "cell_type": "markdown",
      "metadata": {
        "id": "1_mLwT2ZRJfM",
        "colab_type": "text"
      },
      "source": [
        "## Create a CNN Model"
      ]
    },
    {
      "cell_type": "code",
      "metadata": {
        "id": "wk5u-Hu5RJfO",
        "colab_type": "code",
        "colab": {
          "base_uri": "https://localhost:8080/",
          "height": 474
        },
        "outputId": "f26a17e8-6446-4ddb-82c7-6e965349be42"
      },
      "source": [
        "# Create a Sequential model object\n",
        "cnnModel = models.Sequential()\n",
        "\n",
        "# Add layers Conv2D for CNN and sepcify MaxPooling\n",
        "\n",
        "# Layer 1 = input layer\n",
        "cnnModel.add(layers.Conv2D(32, (3,3), activation=\"relu\", input_shape=(28,28,1) ))\n",
        "\n",
        "cnnModel.add(layers.MaxPooling2D((2,2)))\n",
        "\n",
        "\n",
        "# Layer 2\n",
        "cnnModel.add(layers.Conv2D(64, (3,3), activation=\"relu\"))\n",
        "\n",
        "cnnModel.add(layers.MaxPooling2D((2,2)))\n",
        "\n",
        "\n",
        "# Layer 3\n",
        "cnnModel.add(layers.Conv2D(64, (3,3), activation=\"relu\" ))\n",
        "\n",
        "cnnModel.add(layers.Flatten())\n",
        "\n",
        "\n",
        "# Add Dense layers or fully connected layers\n",
        "# Layer 4\n",
        "cnnModel.add(layers.Dense(64, activation=\"relu\" ))\n",
        "\n",
        "# Layer 5\n",
        "cnnModel.add(layers.Dense(32, activation=\"relu\" ))\n",
        "\n",
        "# Layer 6\n",
        "cnnModel.add(layers.Dense(10, activation=\"softmax\" ))\n",
        "\n",
        "cnnModel.summary()\n"
      ],
      "execution_count": 20,
      "outputs": [
        {
          "output_type": "stream",
          "text": [
            "Model: \"sequential_1\"\n",
            "_________________________________________________________________\n",
            "Layer (type)                 Output Shape              Param #   \n",
            "=================================================================\n",
            "conv2d_3 (Conv2D)            (None, 26, 26, 32)        320       \n",
            "_________________________________________________________________\n",
            "max_pooling2d_2 (MaxPooling2 (None, 13, 13, 32)        0         \n",
            "_________________________________________________________________\n",
            "conv2d_4 (Conv2D)            (None, 11, 11, 64)        18496     \n",
            "_________________________________________________________________\n",
            "max_pooling2d_3 (MaxPooling2 (None, 5, 5, 64)          0         \n",
            "_________________________________________________________________\n",
            "conv2d_5 (Conv2D)            (None, 3, 3, 64)          36928     \n",
            "_________________________________________________________________\n",
            "flatten_1 (Flatten)          (None, 576)               0         \n",
            "_________________________________________________________________\n",
            "dense_3 (Dense)              (None, 64)                36928     \n",
            "_________________________________________________________________\n",
            "dense_4 (Dense)              (None, 32)                2080      \n",
            "_________________________________________________________________\n",
            "dense_5 (Dense)              (None, 10)                330       \n",
            "=================================================================\n",
            "Total params: 95,082\n",
            "Trainable params: 95,082\n",
            "Non-trainable params: 0\n",
            "_________________________________________________________________\n"
          ],
          "name": "stdout"
        }
      ]
    },
    {
      "cell_type": "code",
      "metadata": {
        "id": "8gv2G_EMRJfh",
        "colab_type": "code",
        "colab": {}
      },
      "source": [
        "# Configure  the model for training, by using appropriate optimizers and regularizations\n",
        "# Available optimizer: adam, rmsprop, adagrad, sgd\n",
        "# loss:  objective that the model will try to minimize. \n",
        "# Available loss: categorical_crossentropy, binary_crossentropy, mean_squared_error\n",
        "# metrics: List of metrics to be evaluated by the model during training and testing. \n",
        "\n",
        "cnnModel.compile(optimizer = \"adam\", loss = \"categorical_crossentropy\", metrics = [\"accuracy\"])\n"
      ],
      "execution_count": 0,
      "outputs": []
    },
    {
      "cell_type": "code",
      "metadata": {
        "id": "55vqe-SsRJgK",
        "colab_type": "code",
        "colab": {
          "base_uri": "https://localhost:8080/",
          "height": 896
        },
        "outputId": "e56a8b18-f80b-41c9-bf70-4e09eea23b6b"
      },
      "source": [
        "# train the model\n",
        "\n",
        "history = cnnModel.fit(Xtrain, Ytrain, epochs = 25, batch_size = 64, validation_split = 0.1)"
      ],
      "execution_count": 22,
      "outputs": [
        {
          "output_type": "stream",
          "text": [
            "Epoch 1/25\n",
            "844/844 [==============================] - 3s 3ms/step - loss: 0.2315 - accuracy: 0.9274 - val_loss: 0.0615 - val_accuracy: 0.9810\n",
            "Epoch 2/25\n",
            "844/844 [==============================] - 3s 3ms/step - loss: 0.0600 - accuracy: 0.9814 - val_loss: 0.0581 - val_accuracy: 0.9823\n",
            "Epoch 3/25\n",
            "844/844 [==============================] - 3s 3ms/step - loss: 0.0421 - accuracy: 0.9869 - val_loss: 0.0379 - val_accuracy: 0.9890\n",
            "Epoch 4/25\n",
            "844/844 [==============================] - 3s 3ms/step - loss: 0.0322 - accuracy: 0.9894 - val_loss: 0.0381 - val_accuracy: 0.9897\n",
            "Epoch 5/25\n",
            "844/844 [==============================] - 3s 3ms/step - loss: 0.0274 - accuracy: 0.9912 - val_loss: 0.0373 - val_accuracy: 0.9903\n",
            "Epoch 6/25\n",
            "844/844 [==============================] - 3s 3ms/step - loss: 0.0224 - accuracy: 0.9926 - val_loss: 0.0397 - val_accuracy: 0.9880\n",
            "Epoch 7/25\n",
            "844/844 [==============================] - 3s 3ms/step - loss: 0.0181 - accuracy: 0.9941 - val_loss: 0.0336 - val_accuracy: 0.9907\n",
            "Epoch 8/25\n",
            "844/844 [==============================] - 3s 3ms/step - loss: 0.0158 - accuracy: 0.9946 - val_loss: 0.0345 - val_accuracy: 0.9917\n",
            "Epoch 9/25\n",
            "844/844 [==============================] - 3s 3ms/step - loss: 0.0118 - accuracy: 0.9964 - val_loss: 0.0414 - val_accuracy: 0.9905\n",
            "Epoch 10/25\n",
            "844/844 [==============================] - 3s 3ms/step - loss: 0.0116 - accuracy: 0.9965 - val_loss: 0.0397 - val_accuracy: 0.9907\n",
            "Epoch 11/25\n",
            "844/844 [==============================] - 3s 3ms/step - loss: 0.0103 - accuracy: 0.9963 - val_loss: 0.0466 - val_accuracy: 0.9890\n",
            "Epoch 12/25\n",
            "844/844 [==============================] - 3s 3ms/step - loss: 0.0099 - accuracy: 0.9967 - val_loss: 0.0346 - val_accuracy: 0.9925\n",
            "Epoch 13/25\n",
            "844/844 [==============================] - 3s 3ms/step - loss: 0.0072 - accuracy: 0.9978 - val_loss: 0.0436 - val_accuracy: 0.9918\n",
            "Epoch 14/25\n",
            "844/844 [==============================] - 3s 3ms/step - loss: 0.0089 - accuracy: 0.9974 - val_loss: 0.0372 - val_accuracy: 0.9922\n",
            "Epoch 15/25\n",
            "844/844 [==============================] - 3s 3ms/step - loss: 0.0057 - accuracy: 0.9982 - val_loss: 0.0428 - val_accuracy: 0.9912\n",
            "Epoch 16/25\n",
            "844/844 [==============================] - 3s 3ms/step - loss: 0.0089 - accuracy: 0.9971 - val_loss: 0.0460 - val_accuracy: 0.9915\n",
            "Epoch 17/25\n",
            "844/844 [==============================] - 3s 3ms/step - loss: 0.0058 - accuracy: 0.9982 - val_loss: 0.0547 - val_accuracy: 0.9905\n",
            "Epoch 18/25\n",
            "844/844 [==============================] - 3s 3ms/step - loss: 0.0047 - accuracy: 0.9983 - val_loss: 0.0426 - val_accuracy: 0.9920\n",
            "Epoch 19/25\n",
            "844/844 [==============================] - 3s 3ms/step - loss: 0.0063 - accuracy: 0.9980 - val_loss: 0.0487 - val_accuracy: 0.9915\n",
            "Epoch 20/25\n",
            "844/844 [==============================] - 3s 3ms/step - loss: 0.0032 - accuracy: 0.9989 - val_loss: 0.0515 - val_accuracy: 0.9905\n",
            "Epoch 21/25\n",
            "844/844 [==============================] - 3s 3ms/step - loss: 0.0059 - accuracy: 0.9979 - val_loss: 0.0498 - val_accuracy: 0.9900\n",
            "Epoch 22/25\n",
            "844/844 [==============================] - 3s 3ms/step - loss: 0.0042 - accuracy: 0.9986 - val_loss: 0.0434 - val_accuracy: 0.9920\n",
            "Epoch 23/25\n",
            "844/844 [==============================] - 3s 3ms/step - loss: 0.0054 - accuracy: 0.9984 - val_loss: 0.0460 - val_accuracy: 0.9928\n",
            "Epoch 24/25\n",
            "844/844 [==============================] - 3s 3ms/step - loss: 0.0050 - accuracy: 0.9985 - val_loss: 0.0418 - val_accuracy: 0.9932\n",
            "Epoch 25/25\n",
            "844/844 [==============================] - 3s 3ms/step - loss: 0.0050 - accuracy: 0.9984 - val_loss: 0.0509 - val_accuracy: 0.9915\n"
          ],
          "name": "stdout"
        }
      ]
    },
    {
      "cell_type": "code",
      "metadata": {
        "id": "gopQxknTRJgU",
        "colab_type": "code",
        "colab": {
          "base_uri": "https://localhost:8080/",
          "height": 52
        },
        "outputId": "15f6c0a7-0117-4596-e276-0da4514aecc1"
      },
      "source": [
        "print('Final training loss \\t', history.history['loss'][-1])\n",
        "print('Final training accuracy ', history.history['accuracy'][-1])"
      ],
      "execution_count": 23,
      "outputs": [
        {
          "output_type": "stream",
          "text": [
            "Final training loss \t 0.0049911015667021275\n",
            "Final training accuracy  0.998370349407196\n"
          ],
          "name": "stdout"
        }
      ]
    },
    {
      "cell_type": "markdown",
      "metadata": {
        "id": "c1lrs0C2RJgf",
        "colab_type": "text"
      },
      "source": [
        "## Results and Outputs"
      ]
    },
    {
      "cell_type": "code",
      "metadata": {
        "id": "9RUVlDadRJgj",
        "colab_type": "code",
        "colab": {
          "base_uri": "https://localhost:8080/",
          "height": 34
        },
        "outputId": "8acfc6e4-6199-4d30-c89f-123fb08b2ce5"
      },
      "source": [
        "# testing the model\n",
        "\n",
        "testLoss, testAccuracy = cnnModel.evaluate( Xtest, Ytest)"
      ],
      "execution_count": 24,
      "outputs": [
        {
          "output_type": "stream",
          "text": [
            "313/313 [==============================] - 1s 2ms/step - loss: 0.0445 - accuracy: 0.9929\n"
          ],
          "name": "stdout"
        }
      ]
    },
    {
      "cell_type": "code",
      "metadata": {
        "id": "3hEIe6qVRJg7",
        "colab_type": "code",
        "colab": {
          "base_uri": "https://localhost:8080/",
          "height": 52
        },
        "outputId": "b8b65ca6-b911-4697-e10a-5b8c8e8d0be3"
      },
      "source": [
        "print('Testing loss \\t', testLoss)\n",
        "print('Testing accuracy ', testAccuracy)"
      ],
      "execution_count": 25,
      "outputs": [
        {
          "output_type": "stream",
          "text": [
            "Testing loss \t 0.04446905851364136\n",
            "Testing accuracy  0.992900013923645\n"
          ],
          "name": "stdout"
        }
      ]
    },
    {
      "cell_type": "code",
      "metadata": {
        "id": "zGe_jSULRJhO",
        "colab_type": "code",
        "colab": {
          "base_uri": "https://localhost:8080/",
          "height": 269
        },
        "outputId": "6e03e71e-d5a1-4498-b67b-afca04dbd43b"
      },
      "source": [
        "# shows the weights in layer 0 conv2d as gray map\n",
        "top_layer = cnnModel.layers[0]\n",
        "plt.imshow(top_layer.get_weights()[0][:, :, :, 0].squeeze(), cmap='gray')\n",
        "plt.show()"
      ],
      "execution_count": 26,
      "outputs": [
        {
          "output_type": "display_data",
          "data": {
            "image/png": "[encoded data removed]",
            "text/plain": [
              "<Figure size 432x288 with 1 Axes>"
            ]
          },
          "metadata": {
            "tags": []
          }
        }
      ]
    },
    {
      "cell_type": "code",
      "metadata": {
        "id": "u6HJVGQ_RJhd",
        "colab_type": "code",
        "colab": {
          "base_uri": "https://localhost:8080/",
          "height": 573
        },
        "outputId": "df0686a3-4f11-41a8-8c77-1d0c92ffe63c"
      },
      "source": [
        "# plotting training and validation loss\n",
        "\n",
        "loss = history.history['loss']\n",
        "val_loss = history.history['val_loss']\n",
        "epochs = range(1, len(loss) + 1)\n",
        "plt.plot(epochs, loss, color='red', label='Training loss')\n",
        "plt.plot(epochs, val_loss, color='green', label='Validation loss')\n",
        "plt.title('Training and Validation loss')\n",
        "plt.xlabel('Epochs')\n",
        "plt.ylabel('Loss')\n",
        "plt.legend()\n",
        "plt.show()\n",
        "\n",
        "# plotting training and validation accuracy\n",
        "\n",
        "acc = history.history['accuracy']\n",
        "val_acc = history.history['val_accuracy']\n",
        "plt.plot(epochs, acc, color='red', label='Training acc')\n",
        "plt.plot(epochs, val_acc, color='green', label='Validation acc')\n",
        "plt.title('Training and Validation accuracy')\n",
        "plt.xlabel('Epochs')\n",
        "plt.ylabel('Loss')\n",
        "plt.legend()\n",
        "plt.show()"
      ],
      "execution_count": 27,
      "outputs": [
        {
          "output_type": "display_data",
          "data": {
            "image/png": "[encoded data removed]",
            "text/plain": [
              "<Figure size 432x288 with 1 Axes>"
            ]
          },
          "metadata": {
            "tags": []
          }
        },
        {
          "output_type": "display_data",
          "data": {
            "image/png": "[encoded data removed]",
            "text/plain": [
              "<Figure size 432x288 with 1 Axes>"
            ]
          },
          "metadata": {
            "tags": []
          }
        }
      ]
    },
    {
      "cell_type": "markdown",
      "metadata": {
        "id": "3H_QWXC0RJhq",
        "colab_type": "text"
      },
      "source": [
        "## Confusion Matrix generation"
      ]
    },
    {
      "cell_type": "markdown",
      "metadata": {
        "id": "jmMazyOERJhu",
        "colab_type": "text"
      },
      "source": [
        "### Prediction for a specific testing data generte confusion matrix"
      ]
    },
    {
      "cell_type": "code",
      "metadata": {
        "id": "tSR8D7GZRJhz",
        "colab_type": "code",
        "colab": {}
      },
      "source": [
        "Y_prediction = cnnModel.predict(Xtest)\n",
        "\n",
        "# Convert predictions classes to one hot vectors \n",
        "Y_pred_classes = np.argmax(Y_prediction, axis = 1) \n",
        "\n",
        "# Convert validation observations to one hot vectors\n",
        "Y_true = np.argmax(Ytest,axis = 1) \n",
        "\n"
      ],
      "execution_count": 0,
      "outputs": []
    },
    {
      "cell_type": "code",
      "metadata": {
        "id": "xVUNUR6ARJh3",
        "colab_type": "code",
        "colab": {
          "base_uri": "https://localhost:8080/",
          "height": 316
        },
        "outputId": "29a82645-9bfa-422b-bc26-fdd3e5263627"
      },
      "source": [
        "# Classification Report\n",
        "\n",
        "from sklearn.metrics import classification_report \n",
        "\n",
        "print(classification_report(Y_true, Y_pred_classes))"
      ],
      "execution_count": 29,
      "outputs": [
        {
          "output_type": "stream",
          "text": [
            "              precision    recall  f1-score   support\n",
            "\n",
            "           0       0.99      1.00      1.00       980\n",
            "           1       0.99      1.00      0.99      1135\n",
            "           2       1.00      1.00      1.00      1032\n",
            "           3       0.98      1.00      0.99      1010\n",
            "           4       0.99      1.00      0.99       982\n",
            "           5       0.99      0.99      0.99       892\n",
            "           6       1.00      0.99      0.99       958\n",
            "           7       0.99      0.99      0.99      1028\n",
            "           8       1.00      0.99      0.99       974\n",
            "           9       0.99      0.98      0.99      1009\n",
            "\n",
            "    accuracy                           0.99     10000\n",
            "   macro avg       0.99      0.99      0.99     10000\n",
            "weighted avg       0.99      0.99      0.99     10000\n",
            "\n"
          ],
          "name": "stdout"
        }
      ]
    },
    {
      "cell_type": "code",
      "metadata": {
        "id": "iT8ael6pRJiP",
        "colab_type": "code",
        "colab": {
          "base_uri": "https://localhost:8080/",
          "height": 538
        },
        "outputId": "4e1dfa2a-de78-459d-8791-d7460ae2aa55"
      },
      "source": [
        "# confusion matrix\n",
        "from sklearn.metrics import confusion_matrix\n",
        "import seaborn as sns\n",
        "\n",
        "# compute the confusion matrix\n",
        "confusion_mtx = confusion_matrix(Y_true, Y_pred_classes) \n",
        "\n",
        "plt.figure(figsize=(10,8))\n",
        "sns.heatmap(confusion_mtx, annot=True, fmt=\"d\");"
      ],
      "execution_count": 30,
      "outputs": [
        {
          "output_type": "stream",
          "text": [
            "/usr/local/lib/python3.6/dist-packages/statsmodels/tools/_testing.py:19: FutureWarning: pandas.util.testing is deprecated. Use the functions in the public API at pandas.testing instead.\n",
            "  import pandas.util.testing as tm\n"
          ],
          "name": "stderr"
        },
        {
          "output_type": "display_data",
          "data": {
            "image/png": "[encoded data removed]",
            "text/plain": [
              "<Figure size 720x576 with 2 Axes>"
            ]
          },
          "metadata": {
            "tags": []
          }
        }
      ]
    },
    {
      "cell_type": "markdown",
      "metadata": {
        "id": "hsixTWKpRJid",
        "colab_type": "text"
      },
      "source": [
        "Modify the code to get a better testing accuracy.\n",
        "- Change the number of hidden units\n",
        "- Increase the number of hidden layers\n",
        "- Use a different optimizer\n",
        "- Train for more epochs for better graphs\n",
        "\n",
        "- Try using CIFAR dataset"
      ]
    }
  ]
}