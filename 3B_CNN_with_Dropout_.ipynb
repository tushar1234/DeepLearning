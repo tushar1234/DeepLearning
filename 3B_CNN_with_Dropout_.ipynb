{
  "nbformat": 4,
  "nbformat_minor": 0,
  "metadata": {
    "kernelspec": {
      "name": "python3",
      "display_name": "Python 3"
    },
    "language_info": {
      "codemirror_mode": {
        "name": "ipython",
        "version": 3
      },
      "file_extension": ".py",
      "mimetype": "text/x-python",
      "name": "python",
      "nbconvert_exporter": "python",
      "pygments_lexer": "ipython3",
      "version": "3.7.3"
    },
    "colab": {
      "name": "3B CNN with Dropout .ipynb",
      "provenance": []
    },
    "accelerator": "GPU"
  },
  "cells": [
    {
      "cell_type": "markdown",
      "metadata": {
        "id": "eGM3rMXgRMsb",
        "colab_type": "text"
      },
      "source": [
        "# Convolutional Neural Network with Dropout"
      ]
    },
    {
      "cell_type": "code",
      "metadata": {
        "id": "pRGKhJnERMsp",
        "colab_type": "code",
        "colab": {}
      },
      "source": [
        "# Import Libraries\n",
        "# - Tensorflow\n",
        "# - Keras\n",
        "# - numpy and random\n",
        "\n",
        "import tensorflow as tf\n",
        "from tensorflow.keras import models\n",
        "from tensorflow.keras import layers\n",
        "\n",
        "import random\n",
        "import numpy as np\n",
        "import matplotlib.pyplot as plt\n",
        "%matplotlib inline"
      ],
      "execution_count": 0,
      "outputs": []
    },
    {
      "cell_type": "code",
      "metadata": {
        "id": "7IKsoOCfRMtK",
        "colab_type": "code",
        "colab": {}
      },
      "source": [
        "random.seed(42)         # Initialize the random number generator.\n",
        "np.random.seed(42)      # With the seed reset, the same set of numbers will appear every time. \n",
        "tf.random.set_seed(42)  # sets the graph-level random seed"
      ],
      "execution_count": 0,
      "outputs": []
    },
    {
      "cell_type": "markdown",
      "metadata": {
        "id": "OdoO5OjeRMtb",
        "colab_type": "text"
      },
      "source": [
        "## Dataset - MNIST"
      ]
    },
    {
      "cell_type": "code",
      "metadata": {
        "id": "ZesxeobvRMte",
        "colab_type": "code",
        "colab": {
          "base_uri": "https://localhost:8080/",
          "height": 52
        },
        "outputId": "767a034a-7dbf-4398-d40e-49a7c6edce43"
      },
      "source": [
        "# Use the MNIST dataset  of Keras.\n",
        "\n",
        "mnist = tf.keras.datasets.mnist\n",
        "\n",
        "(Xtrain, Ytrain), (Xtest,Ytest) = mnist.load_data()\n",
        "\n",
        "# Display size of dataset\n",
        "Xtrain = Xtrain.reshape((60000,28,28,1))\n",
        "Xtrain = Xtrain.astype('float32')/255\n",
        "\n",
        "Xtest = Xtest.reshape((10000,28,28,1))\n",
        "Xtest = Xtest.astype('float32')/255\n",
        "\n",
        "Ytrain = tf.keras.utils.to_categorical(Ytrain)\n",
        "Ytest = tf.keras.utils.to_categorical(Ytest)\n",
        "\n",
        "print(Xtrain.shape, Xtest.shape)\n",
        "print(Ytrain.shape, Ytest.shape)"
      ],
      "execution_count": 12,
      "outputs": [
        {
          "output_type": "stream",
          "text": [
            "(60000, 28, 28, 1) (10000, 28, 28, 1)\n",
            "(60000, 10) (10000, 10)\n"
          ],
          "name": "stdout"
        }
      ]
    },
    {
      "cell_type": "markdown",
      "metadata": {
        "id": "d8PXG2EURMt4",
        "colab_type": "text"
      },
      "source": [
        "## Create a CNN Model"
      ]
    },
    {
      "cell_type": "code",
      "metadata": {
        "id": "ta-qOyVWRMt6",
        "colab_type": "code",
        "colab": {
          "base_uri": "https://localhost:8080/",
          "height": 544
        },
        "outputId": "6b7f1d3a-f3d4-42e6-a628-35b718326b85"
      },
      "source": [
        "# Create a Sequential model object\n",
        "cnnModel = models.Sequential()\n",
        "\n",
        "# Add layers Conv2D for CNN and sepcify MaxPooling\n",
        "\n",
        "# Layer 1 = input layer\n",
        "cnnModel.add(layers.Conv2D(32, (3,3), activation=\"relu\", input_shape=(28,28,1) ))\n",
        "\n",
        "cnnModel.add(layers.MaxPooling2D((2,2)))\n",
        "\n",
        "\n",
        "# Layer 2\n",
        "cnnModel.add(layers.Conv2D(64, (3,3), activation=\"relu\"))\n",
        "\n",
        "cnnModel.add(layers.MaxPooling2D((2,2)))\n",
        "\n",
        "\n",
        "# Add dropout of 50% to layer 2\n",
        "cnnModel.add(layers.Dropout(0.5))\n",
        "\n",
        "\n",
        "\n",
        "# Layer 3\n",
        "cnnModel.add(layers.Conv2D(64, (3,3), activation=\"relu\" ))\n",
        "\n",
        "\n",
        "# Add dropout of 50% to layer 3\n",
        "cnnModel.add(layers.Dropout(0.5))\n",
        "\n",
        "\n",
        "cnnModel.add(layers.Flatten())\n",
        "\n",
        "\n",
        "# Add Dense layers or fully connected layers\n",
        "# Layer 4\n",
        "cnnModel.add(layers.Dense(64, activation=\"relu\" ))\n",
        "\n",
        "# Layer 5\n",
        "cnnModel.add(layers.Dense(32, activation=\"relu\" ))\n",
        "\n",
        "# Layer 6\n",
        "cnnModel.add(layers.Dense(10, activation=\"softmax\" ))\n",
        "\n",
        "cnnModel.summary()\n"
      ],
      "execution_count": 13,
      "outputs": [
        {
          "output_type": "stream",
          "text": [
            "Model: \"sequential_1\"\n",
            "_________________________________________________________________\n",
            "Layer (type)                 Output Shape              Param #   \n",
            "=================================================================\n",
            "conv2d_3 (Conv2D)            (None, 26, 26, 32)        320       \n",
            "_________________________________________________________________\n",
            "max_pooling2d_2 (MaxPooling2 (None, 13, 13, 32)        0         \n",
            "_________________________________________________________________\n",
            "conv2d_4 (Conv2D)            (None, 11, 11, 64)        18496     \n",
            "_________________________________________________________________\n",
            "max_pooling2d_3 (MaxPooling2 (None, 5, 5, 64)          0         \n",
            "_________________________________________________________________\n",
            "dropout_2 (Dropout)          (None, 5, 5, 64)          0         \n",
            "_________________________________________________________________\n",
            "conv2d_5 (Conv2D)            (None, 3, 3, 64)          36928     \n",
            "_________________________________________________________________\n",
            "dropout_3 (Dropout)          (None, 3, 3, 64)          0         \n",
            "_________________________________________________________________\n",
            "flatten_1 (Flatten)          (None, 576)               0         \n",
            "_________________________________________________________________\n",
            "dense_3 (Dense)              (None, 64)                36928     \n",
            "_________________________________________________________________\n",
            "dense_4 (Dense)              (None, 32)                2080      \n",
            "_________________________________________________________________\n",
            "dense_5 (Dense)              (None, 10)                330       \n",
            "=================================================================\n",
            "Total params: 95,082\n",
            "Trainable params: 95,082\n",
            "Non-trainable params: 0\n",
            "_________________________________________________________________\n"
          ],
          "name": "stdout"
        }
      ]
    },
    {
      "cell_type": "code",
      "metadata": {
        "id": "x3T5PpNKRMuI",
        "colab_type": "code",
        "colab": {}
      },
      "source": [
        "# Configure  the model for training, by using appropriate optimizers and regularizations\n",
        "# Available optimizer: adam, rmsprop, adagrad, sgd\n",
        "# loss:  objective that the model will try to minimize. \n",
        "# Available loss: categorical_crossentropy, binary_crossentropy, mean_squared_error\n",
        "# metrics: List of metrics to be evaluated by the model during training and testing. \n",
        "\n",
        "cnnModel.compile(optimizer = \"adam\", loss = \"categorical_crossentropy\", metrics = [\"accuracy\"])\n"
      ],
      "execution_count": 0,
      "outputs": []
    },
    {
      "cell_type": "code",
      "metadata": {
        "id": "WhwD5WbsRMua",
        "colab_type": "code",
        "colab": {
          "base_uri": "https://localhost:8080/",
          "height": 896
        },
        "outputId": "5e4ebee9-1ac3-4bba-dc6f-6d73523d32f9"
      },
      "source": [
        "# train the model\n",
        "\n",
        "history = cnnModel.fit(Xtrain, Ytrain, epochs = 25, batch_size = 64, validation_split = 0.1)"
      ],
      "execution_count": 15,
      "outputs": [
        {
          "output_type": "stream",
          "text": [
            "Epoch 1/25\n",
            "844/844 [==============================] - 4s 5ms/step - loss: 0.3728 - accuracy: 0.8775 - val_loss: 0.0826 - val_accuracy: 0.9730\n",
            "Epoch 2/25\n",
            "844/844 [==============================] - 4s 5ms/step - loss: 0.1139 - accuracy: 0.9641 - val_loss: 0.0471 - val_accuracy: 0.9850\n",
            "Epoch 3/25\n",
            "844/844 [==============================] - 4s 5ms/step - loss: 0.0902 - accuracy: 0.9717 - val_loss: 0.0386 - val_accuracy: 0.9885\n",
            "Epoch 4/25\n",
            "844/844 [==============================] - 4s 5ms/step - loss: 0.0756 - accuracy: 0.9762 - val_loss: 0.0406 - val_accuracy: 0.9868\n",
            "Epoch 5/25\n",
            "844/844 [==============================] - 4s 5ms/step - loss: 0.0677 - accuracy: 0.9782 - val_loss: 0.0342 - val_accuracy: 0.9893\n",
            "Epoch 6/25\n",
            "844/844 [==============================] - 4s 5ms/step - loss: 0.0626 - accuracy: 0.9806 - val_loss: 0.0339 - val_accuracy: 0.9907\n",
            "Epoch 7/25\n",
            "844/844 [==============================] - 4s 5ms/step - loss: 0.0576 - accuracy: 0.9825 - val_loss: 0.0283 - val_accuracy: 0.9922\n",
            "Epoch 8/25\n",
            "844/844 [==============================] - 4s 5ms/step - loss: 0.0559 - accuracy: 0.9825 - val_loss: 0.0300 - val_accuracy: 0.9913\n",
            "Epoch 9/25\n",
            "844/844 [==============================] - 4s 5ms/step - loss: 0.0516 - accuracy: 0.9837 - val_loss: 0.0337 - val_accuracy: 0.9897\n",
            "Epoch 10/25\n",
            "844/844 [==============================] - 4s 5ms/step - loss: 0.0497 - accuracy: 0.9841 - val_loss: 0.0317 - val_accuracy: 0.9900\n",
            "Epoch 11/25\n",
            "844/844 [==============================] - 4s 5ms/step - loss: 0.0460 - accuracy: 0.9853 - val_loss: 0.0239 - val_accuracy: 0.9927\n",
            "Epoch 12/25\n",
            "844/844 [==============================] - 4s 5ms/step - loss: 0.0451 - accuracy: 0.9859 - val_loss: 0.0235 - val_accuracy: 0.9930\n",
            "Epoch 13/25\n",
            "844/844 [==============================] - 4s 5ms/step - loss: 0.0435 - accuracy: 0.9864 - val_loss: 0.0258 - val_accuracy: 0.9927\n",
            "Epoch 14/25\n",
            "844/844 [==============================] - 4s 5ms/step - loss: 0.0434 - accuracy: 0.9863 - val_loss: 0.0247 - val_accuracy: 0.9930\n",
            "Epoch 15/25\n",
            "844/844 [==============================] - 4s 5ms/step - loss: 0.0406 - accuracy: 0.9868 - val_loss: 0.0264 - val_accuracy: 0.9927\n",
            "Epoch 16/25\n",
            "844/844 [==============================] - 4s 5ms/step - loss: 0.0398 - accuracy: 0.9875 - val_loss: 0.0250 - val_accuracy: 0.9923\n",
            "Epoch 17/25\n",
            "844/844 [==============================] - 4s 5ms/step - loss: 0.0371 - accuracy: 0.9883 - val_loss: 0.0230 - val_accuracy: 0.9923\n",
            "Epoch 18/25\n",
            "844/844 [==============================] - 4s 5ms/step - loss: 0.0376 - accuracy: 0.9883 - val_loss: 0.0269 - val_accuracy: 0.9928\n",
            "Epoch 19/25\n",
            "844/844 [==============================] - 4s 5ms/step - loss: 0.0375 - accuracy: 0.9879 - val_loss: 0.0233 - val_accuracy: 0.9937\n",
            "Epoch 20/25\n",
            "844/844 [==============================] - 4s 5ms/step - loss: 0.0375 - accuracy: 0.9881 - val_loss: 0.0239 - val_accuracy: 0.9932\n",
            "Epoch 21/25\n",
            "844/844 [==============================] - 4s 5ms/step - loss: 0.0344 - accuracy: 0.9891 - val_loss: 0.0246 - val_accuracy: 0.9933\n",
            "Epoch 22/25\n",
            "844/844 [==============================] - 4s 5ms/step - loss: 0.0343 - accuracy: 0.9886 - val_loss: 0.0246 - val_accuracy: 0.9937\n",
            "Epoch 23/25\n",
            "844/844 [==============================] - 4s 5ms/step - loss: 0.0343 - accuracy: 0.9891 - val_loss: 0.0252 - val_accuracy: 0.9928\n",
            "Epoch 24/25\n",
            "844/844 [==============================] - 4s 5ms/step - loss: 0.0326 - accuracy: 0.9894 - val_loss: 0.0237 - val_accuracy: 0.9937\n",
            "Epoch 25/25\n",
            "844/844 [==============================] - 4s 5ms/step - loss: 0.0343 - accuracy: 0.9895 - val_loss: 0.0269 - val_accuracy: 0.9930\n"
          ],
          "name": "stdout"
        }
      ]
    },
    {
      "cell_type": "code",
      "metadata": {
        "id": "nEUpUlBJRMur",
        "colab_type": "code",
        "colab": {
          "base_uri": "https://localhost:8080/",
          "height": 52
        },
        "outputId": "c0c2907f-6aed-4581-947a-8239f93d8bd7"
      },
      "source": [
        "print('Final training loss \\t', history.history['loss'][-1])\n",
        "print('Final training accuracy ', history.history['accuracy'][-1])"
      ],
      "execution_count": 16,
      "outputs": [
        {
          "output_type": "stream",
          "text": [
            "Final training loss \t 0.03431898355484009\n",
            "Final training accuracy  0.9895185232162476\n"
          ],
          "name": "stdout"
        }
      ]
    },
    {
      "cell_type": "markdown",
      "metadata": {
        "id": "PZBY-jnVRMu7",
        "colab_type": "text"
      },
      "source": [
        "## Results and Outputs"
      ]
    },
    {
      "cell_type": "code",
      "metadata": {
        "id": "-aFa6V-jRMu8",
        "colab_type": "code",
        "colab": {
          "base_uri": "https://localhost:8080/",
          "height": 34
        },
        "outputId": "57a94926-4ac3-481e-e53d-a44b6a120dd4"
      },
      "source": [
        "# testing the model\n",
        "\n",
        "testLoss, testAccuracy = cnnModel.evaluate( Xtest, Ytest)"
      ],
      "execution_count": 17,
      "outputs": [
        {
          "output_type": "stream",
          "text": [
            "313/313 [==============================] - 1s 3ms/step - loss: 0.0214 - accuracy: 0.9936\n"
          ],
          "name": "stdout"
        }
      ]
    },
    {
      "cell_type": "code",
      "metadata": {
        "id": "wqJT-qQaRMvM",
        "colab_type": "code",
        "colab": {
          "base_uri": "https://localhost:8080/",
          "height": 52
        },
        "outputId": "60fafd9a-ea10-43b0-dbd3-b54ae585ea21"
      },
      "source": [
        "print('Testing loss \\t', testLoss)\n",
        "print('Testing accuracy ', testAccuracy)"
      ],
      "execution_count": 18,
      "outputs": [
        {
          "output_type": "stream",
          "text": [
            "Testing loss \t 0.021396977826952934\n",
            "Testing accuracy  0.9936000108718872\n"
          ],
          "name": "stdout"
        }
      ]
    },
    {
      "cell_type": "code",
      "metadata": {
        "id": "u9xCob7NRMvY",
        "colab_type": "code",
        "colab": {
          "base_uri": "https://localhost:8080/",
          "height": 573
        },
        "outputId": "2d6eb5d3-b339-40c6-d449-2e54e54b260c"
      },
      "source": [
        "# plotting training and validation loss\n",
        "\n",
        "loss = history.history['loss']\n",
        "val_loss = history.history['val_loss']\n",
        "epochs = range(1, len(loss) + 1)\n",
        "plt.plot(epochs, loss, color='red', label='Training loss')\n",
        "plt.plot(epochs, val_loss, color='green', label='Validation loss')\n",
        "plt.title('Training and Validation loss')\n",
        "plt.xlabel('Epochs')\n",
        "plt.ylabel('Loss')\n",
        "plt.legend()\n",
        "plt.show()\n",
        "\n",
        "# plotting training and validation accuracy\n",
        "\n",
        "acc = history.history['accuracy']\n",
        "val_acc = history.history['val_accuracy']\n",
        "plt.plot(epochs, acc, color='red', label='Training acc')\n",
        "plt.plot(epochs, val_acc, color='green', label='Validation acc')\n",
        "plt.title('Training and Validation accuracy')\n",
        "plt.xlabel('Epochs')\n",
        "plt.ylabel('Loss')\n",
        "plt.legend()\n",
        "plt.show()"
      ],
      "execution_count": 19,
      "outputs": [
        {
          "output_type": "display_data",
          "data": {
            "image/png": "[encoded data removed]",
            "text/plain": [
              "<Figure size 432x288 with 1 Axes>"
            ]
          },
          "metadata": {
            "tags": []
          }
        },
        {
          "output_type": "display_data",
          "data": {
            "image/png": "[encoded data removed]",
            "text/plain": [
              "<Figure size 432x288 with 1 Axes>"
            ]
          },
          "metadata": {
            "tags": []
          }
        }
      ]
    },
    {
      "cell_type": "markdown",
      "metadata": {
        "id": "ST_1XWFgRMvq",
        "colab_type": "text"
      },
      "source": [
        "## Confusion Matrix generation"
      ]
    },
    {
      "cell_type": "markdown",
      "metadata": {
        "id": "OkECAYNrRMvs",
        "colab_type": "text"
      },
      "source": [
        "### Prediction for a specific testing data generte confusion matrix"
      ]
    },
    {
      "cell_type": "code",
      "metadata": {
        "id": "GzPYl_kqRMvv",
        "colab_type": "code",
        "colab": {}
      },
      "source": [
        "Y_prediction = cnnModel.predict(Xtest)\n",
        "\n",
        "# Convert predictions classes to one hot vectors \n",
        "Y_pred_classes = np.argmax(Y_prediction, axis = 1) \n",
        "\n",
        "# Convert validation observations to one hot vectors\n",
        "Y_true = np.argmax(Ytest,axis = 1) \n",
        "\n"
      ],
      "execution_count": 0,
      "outputs": []
    },
    {
      "cell_type": "code",
      "metadata": {
        "id": "LNipMfhVRMv8",
        "colab_type": "code",
        "colab": {
          "base_uri": "https://localhost:8080/",
          "height": 316
        },
        "outputId": "9f201f9b-3c28-45aa-dc34-7e496812f200"
      },
      "source": [
        "# Classification Report\n",
        "\n",
        "from sklearn.metrics import classification_report \n",
        "\n",
        "print(classification_report(Y_true, Y_pred_classes))"
      ],
      "execution_count": 21,
      "outputs": [
        {
          "output_type": "stream",
          "text": [
            "              precision    recall  f1-score   support\n",
            "\n",
            "           0       0.99      1.00      1.00       980\n",
            "           1       0.99      1.00      1.00      1135\n",
            "           2       1.00      0.99      1.00      1032\n",
            "           3       0.99      0.99      0.99      1010\n",
            "           4       0.99      0.99      0.99       982\n",
            "           5       0.99      0.99      0.99       892\n",
            "           6       1.00      0.99      0.99       958\n",
            "           7       0.99      0.99      0.99      1028\n",
            "           8       0.99      1.00      0.99       974\n",
            "           9       0.99      0.99      0.99      1009\n",
            "\n",
            "    accuracy                           0.99     10000\n",
            "   macro avg       0.99      0.99      0.99     10000\n",
            "weighted avg       0.99      0.99      0.99     10000\n",
            "\n"
          ],
          "name": "stdout"
        }
      ]
    },
    {
      "cell_type": "code",
      "metadata": {
        "id": "Mt0C-DG2RMwE",
        "colab_type": "code",
        "colab": {
          "base_uri": "https://localhost:8080/",
          "height": 538
        },
        "outputId": "c1270487-47aa-42c7-f733-5825055be216"
      },
      "source": [
        "# confusion matrix\n",
        "from sklearn.metrics import confusion_matrix\n",
        "import seaborn as sns\n",
        "\n",
        "# compute the confusion matrix\n",
        "confusion_mtx = confusion_matrix(Y_true, Y_pred_classes) \n",
        "\n",
        "plt.figure(figsize=(10,8))\n",
        "sns.heatmap(confusion_mtx, annot=True, fmt=\"d\");"
      ],
      "execution_count": 22,
      "outputs": [
        {
          "output_type": "stream",
          "text": [
            "/usr/local/lib/python3.6/dist-packages/statsmodels/tools/_testing.py:19: FutureWarning: pandas.util.testing is deprecated. Use the functions in the public API at pandas.testing instead.\n",
            "  import pandas.util.testing as tm\n"
          ],
          "name": "stderr"
        },
        {
          "output_type": "display_data",
          "data": {
            "image/png": "[encoded data removed]",
            "text/plain": [
              "<Figure size 720x576 with 2 Axes>"
            ]
          },
          "metadata": {
            "tags": []
          }
        }
      ]
    },
    {
      "cell_type": "markdown",
      "metadata": {
        "id": "K1MrnZbtRMwO",
        "colab_type": "text"
      },
      "source": [
        "Modify the code to get a better testing accuracy.\n",
        "- Change the number of hidden units\n",
        "- Increase the number of hidden layers\n",
        "- Use a different optimizer\n",
        "- Train for more epochs for better graphs\n",
        "\n",
        "- Try using CIFAR dataset"
      ]
    }
  ]
}