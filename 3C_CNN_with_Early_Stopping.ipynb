{
  "nbformat": 4,
  "nbformat_minor": 0,
  "metadata": {
    "kernelspec": {
      "name": "python3",
      "display_name": "Python 3"
    },
    "language_info": {
      "codemirror_mode": {
        "name": "ipython",
        "version": 3
      },
      "file_extension": ".py",
      "mimetype": "text/x-python",
      "name": "python",
      "nbconvert_exporter": "python",
      "pygments_lexer": "ipython3",
      "version": "3.7.3"
    },
    "colab": {
      "name": "3C CNN with Early Stopping.ipynb",
      "provenance": []
    },
    "accelerator": "GPU"
  },
  "cells": [
    {
      "cell_type": "markdown",
      "metadata": {
        "id": "Fijzzb-nRPsR",
        "colab_type": "text"
      },
      "source": [
        "# Convolutional Neural Network with Early Stopping"
      ]
    },
    {
      "cell_type": "code",
      "metadata": {
        "id": "_Gt_unJORPsU",
        "colab_type": "code",
        "colab": {}
      },
      "source": [
        "# Import Libraries\n",
        "# - Tensorflow\n",
        "# - Keras\n",
        "# - numpy and random\n",
        "\n",
        "import tensorflow as tf\n",
        "from tensorflow.keras import models\n",
        "from tensorflow.keras import layers\n",
        "\n",
        "from tensorflow.keras.callbacks import EarlyStopping\n",
        "\n",
        "import random\n",
        "import numpy as np\n",
        "import matplotlib.pyplot as plt\n",
        "%matplotlib inline"
      ],
      "execution_count": 0,
      "outputs": []
    },
    {
      "cell_type": "code",
      "metadata": {
        "id": "UltvrfoYRPsi",
        "colab_type": "code",
        "colab": {}
      },
      "source": [
        "random.seed(42)         # Initialize the random number generator.\n",
        "np.random.seed(42)      # With the seed reset, the same set of numbers will appear every time. \n",
        "tf.random.set_seed(42)  # sets the graph-level random seed"
      ],
      "execution_count": 0,
      "outputs": []
    },
    {
      "cell_type": "markdown",
      "metadata": {
        "id": "3ZJTDR3SRPsm",
        "colab_type": "text"
      },
      "source": [
        "## Dataset - MNIST"
      ]
    },
    {
      "cell_type": "code",
      "metadata": {
        "id": "3QpWLvgiRPsn",
        "colab_type": "code",
        "colab": {
          "base_uri": "https://localhost:8080/",
          "height": 87
        },
        "outputId": "199c1ab1-845b-482f-9e88-e2cccc9707ac"
      },
      "source": [
        "# Use the MNIST dataset  of Keras.\n",
        "\n",
        "mnist = tf.keras.datasets.mnist\n",
        "\n",
        "(Xtrain, Ytrain), (Xtest,Ytest) = mnist.load_data()\n",
        "\n",
        "# Display size of dataset\n",
        "Xtrain = Xtrain.reshape((60000,28,28,1))\n",
        "Xtrain = Xtrain.astype('float32')/255\n",
        "\n",
        "Xtest = Xtest.reshape((10000,28,28,1))\n",
        "Xtest = Xtest.astype('float32')/255\n",
        "\n",
        "Ytrain = tf.keras.utils.to_categorical(Ytrain)\n",
        "Ytest = tf.keras.utils.to_categorical(Ytest)\n",
        "\n",
        "print(Xtrain.shape, Xtest.shape)\n",
        "print(Ytrain.shape, Ytest.shape)"
      ],
      "execution_count": 5,
      "outputs": [
        {
          "output_type": "stream",
          "text": [
            "Downloading data from https://storage.googleapis.com/tensorflow/tf-keras-datasets/mnist.npz\n",
            "11493376/11490434 [==============================] - 0s 0us/step\n",
            "(60000, 28, 28, 1) (10000, 28, 28, 1)\n",
            "(60000, 10) (10000, 10)\n"
          ],
          "name": "stdout"
        }
      ]
    },
    {
      "cell_type": "markdown",
      "metadata": {
        "id": "sFmfYYj6RPtC",
        "colab_type": "text"
      },
      "source": [
        "## Create a CNN Model"
      ]
    },
    {
      "cell_type": "code",
      "metadata": {
        "id": "gspWD0uqRPtD",
        "colab_type": "code",
        "colab": {
          "base_uri": "https://localhost:8080/",
          "height": 474
        },
        "outputId": "8b3412ec-1f71-4646-8dc6-1f5994fce436"
      },
      "source": [
        "# Create a Sequential model object\n",
        "cnnModel = models.Sequential()\n",
        "\n",
        "# Add layers Conv2D for CNN and sepcify MaxPooling\n",
        "\n",
        "# Layer 1 = input layer\n",
        "cnnModel.add(layers.Conv2D(32, (3,3), activation=\"relu\", input_shape=(28,28,1) ))\n",
        "\n",
        "cnnModel.add(layers.MaxPooling2D((2,2)))\n",
        "\n",
        "\n",
        "# Layer 2\n",
        "cnnModel.add(layers.Conv2D(64, (3,3), activation=\"relu\"))\n",
        "\n",
        "cnnModel.add(layers.MaxPooling2D((2,2)))\n",
        "\n",
        "\n",
        "# Layer 3\n",
        "cnnModel.add(layers.Conv2D(64, (3,3), activation=\"relu\" ))\n",
        "\n",
        "\n",
        "cnnModel.add(layers.Flatten())\n",
        "\n",
        "\n",
        "# Add Dense layers or fully connected layers\n",
        "# Layer 4\n",
        "cnnModel.add(layers.Dense(64, activation=\"relu\" ))\n",
        "\n",
        "# Layer 5\n",
        "cnnModel.add(layers.Dense(32, activation=\"relu\" ))\n",
        "\n",
        "# Layer 6\n",
        "cnnModel.add(layers.Dense(10, activation=\"softmax\" ))\n",
        "\n",
        "cnnModel.summary()\n"
      ],
      "execution_count": 6,
      "outputs": [
        {
          "output_type": "stream",
          "text": [
            "Model: \"sequential\"\n",
            "_________________________________________________________________\n",
            "Layer (type)                 Output Shape              Param #   \n",
            "=================================================================\n",
            "conv2d (Conv2D)              (None, 26, 26, 32)        320       \n",
            "_________________________________________________________________\n",
            "max_pooling2d (MaxPooling2D) (None, 13, 13, 32)        0         \n",
            "_________________________________________________________________\n",
            "conv2d_1 (Conv2D)            (None, 11, 11, 64)        18496     \n",
            "_________________________________________________________________\n",
            "max_pooling2d_1 (MaxPooling2 (None, 5, 5, 64)          0         \n",
            "_________________________________________________________________\n",
            "conv2d_2 (Conv2D)            (None, 3, 3, 64)          36928     \n",
            "_________________________________________________________________\n",
            "flatten (Flatten)            (None, 576)               0         \n",
            "_________________________________________________________________\n",
            "dense (Dense)                (None, 64)                36928     \n",
            "_________________________________________________________________\n",
            "dense_1 (Dense)              (None, 32)                2080      \n",
            "_________________________________________________________________\n",
            "dense_2 (Dense)              (None, 10)                330       \n",
            "=================================================================\n",
            "Total params: 95,082\n",
            "Trainable params: 95,082\n",
            "Non-trainable params: 0\n",
            "_________________________________________________________________\n"
          ],
          "name": "stdout"
        }
      ]
    },
    {
      "cell_type": "code",
      "metadata": {
        "id": "c8ynt1zcRPtQ",
        "colab_type": "code",
        "colab": {}
      },
      "source": [
        "# Configure  the model for training, by using appropriate optimizers and regularizations\n",
        "# Available optimizer: adam, rmsprop, adagrad, sgd\n",
        "# loss:  objective that the model will try to minimize. \n",
        "# Available loss: categorical_crossentropy, binary_crossentropy, mean_squared_error\n",
        "# metrics: List of metrics to be evaluated by the model during training and testing. \n",
        "\n",
        "cnnModel.compile(optimizer = \"adam\", loss = \"categorical_crossentropy\", metrics = [\"accuracy\"])\n"
      ],
      "execution_count": 0,
      "outputs": []
    },
    {
      "cell_type": "code",
      "metadata": {
        "id": "Q93hzXv2RPtX",
        "colab_type": "code",
        "colab": {
          "base_uri": "https://localhost:8080/",
          "height": 175
        },
        "outputId": "1aed7d33-05d4-470b-ae20-407922db3851"
      },
      "source": [
        "# train the model\n",
        "es = EarlyStopping(monitor='val_loss', mode='min', verbose=1)\n",
        "\n",
        "# fit model\n",
        "history = cnnModel.fit(Xtrain, Ytrain, epochs = 25, batch_size = 64, \n",
        "                       validation_split = 0.1, callbacks=[es])"
      ],
      "execution_count": 8,
      "outputs": [
        {
          "output_type": "stream",
          "text": [
            "Epoch 1/25\n",
            "844/844 [==============================] - 3s 4ms/step - loss: 0.2317 - accuracy: 0.9268 - val_loss: 0.0624 - val_accuracy: 0.9817\n",
            "Epoch 2/25\n",
            "844/844 [==============================] - 3s 3ms/step - loss: 0.0607 - accuracy: 0.9809 - val_loss: 0.0566 - val_accuracy: 0.9850\n",
            "Epoch 3/25\n",
            "844/844 [==============================] - 3s 3ms/step - loss: 0.0436 - accuracy: 0.9865 - val_loss: 0.0365 - val_accuracy: 0.9895\n",
            "Epoch 4/25\n",
            "844/844 [==============================] - 3s 3ms/step - loss: 0.0325 - accuracy: 0.9897 - val_loss: 0.0398 - val_accuracy: 0.9895\n",
            "Epoch 00004: early stopping\n"
          ],
          "name": "stdout"
        }
      ]
    },
    {
      "cell_type": "code",
      "metadata": {
        "id": "B4BVbBHSRPtf",
        "colab_type": "code",
        "colab": {
          "base_uri": "https://localhost:8080/",
          "height": 52
        },
        "outputId": "f7818d2f-cd49-477a-dffe-7fef6da1492a"
      },
      "source": [
        "print('Final training loss \\t', history.history['loss'][-1])\n",
        "print('Final training accuracy ', history.history['accuracy'][-1])"
      ],
      "execution_count": 9,
      "outputs": [
        {
          "output_type": "stream",
          "text": [
            "Final training loss \t 0.03248041495680809\n",
            "Final training accuracy  0.9897407293319702\n"
          ],
          "name": "stdout"
        }
      ]
    },
    {
      "cell_type": "markdown",
      "metadata": {
        "id": "KkPmqgdcRPtm",
        "colab_type": "text"
      },
      "source": [
        "## Results and Outputs"
      ]
    },
    {
      "cell_type": "code",
      "metadata": {
        "id": "8m4loiNyRPtn",
        "colab_type": "code",
        "colab": {
          "base_uri": "https://localhost:8080/",
          "height": 34
        },
        "outputId": "7d0ffc29-3355-4f28-99c9-f787921f0875"
      },
      "source": [
        "# testing the model\n",
        "\n",
        "testLoss, testAccuracy = cnnModel.evaluate( Xtest, Ytest)"
      ],
      "execution_count": 10,
      "outputs": [
        {
          "output_type": "stream",
          "text": [
            "313/313 [==============================] - 1s 2ms/step - loss: 0.0320 - accuracy: 0.9897\n"
          ],
          "name": "stdout"
        }
      ]
    },
    {
      "cell_type": "code",
      "metadata": {
        "id": "30KYGzqXRPuE",
        "colab_type": "code",
        "colab": {
          "base_uri": "https://localhost:8080/",
          "height": 52
        },
        "outputId": "026569a8-0c35-4bb2-8a76-5b454e4ff1a7"
      },
      "source": [
        "print('Testing loss \\t', testLoss)\n",
        "print('Testing accuracy ', testAccuracy)"
      ],
      "execution_count": 11,
      "outputs": [
        {
          "output_type": "stream",
          "text": [
            "Testing loss \t 0.0319967120885849\n",
            "Testing accuracy  0.9897000193595886\n"
          ],
          "name": "stdout"
        }
      ]
    },
    {
      "cell_type": "code",
      "metadata": {
        "id": "sL7oXusnRPuL",
        "colab_type": "code",
        "colab": {
          "base_uri": "https://localhost:8080/",
          "height": 573
        },
        "outputId": "6982a952-25d0-4abf-d8b6-87519a89d09f"
      },
      "source": [
        "# plotting training and validation loss\n",
        "\n",
        "loss = history.history['loss']\n",
        "val_loss = history.history['val_loss']\n",
        "epochs = range(1, len(loss) + 1)\n",
        "plt.plot(epochs, loss, color='red', label='Training loss')\n",
        "plt.plot(epochs, val_loss, color='green', label='Validation loss')\n",
        "plt.title('Training and Validation loss')\n",
        "plt.xlabel('Epochs')\n",
        "plt.ylabel('Loss')\n",
        "plt.legend()\n",
        "plt.show()\n",
        "\n",
        "# plotting training and validation accuracy\n",
        "\n",
        "acc = history.history['accuracy']\n",
        "val_acc = history.history['val_accuracy']\n",
        "plt.plot(epochs, acc, color='red', label='Training acc')\n",
        "plt.plot(epochs, val_acc, color='green', label='Validation acc')\n",
        "plt.title('Training and Validation accuracy')\n",
        "plt.xlabel('Epochs')\n",
        "plt.ylabel('Loss')\n",
        "plt.legend()\n",
        "plt.show()"
      ],
      "execution_count": 12,
      "outputs": [
        {
          "output_type": "display_data",
          "data": {
            "image/png": "[encoded data removed]",
            "text/plain": [
              "<Figure size 432x288 with 1 Axes>"
            ]
          },
          "metadata": {
            "tags": []
          }
        },
        {
          "output_type": "display_data",
          "data": {
            "image/png": "[encoded data removed]",
            "text/plain": [
              "<Figure size 432x288 with 1 Axes>"
            ]
          },
          "metadata": {
            "tags": []
          }
        }
      ]
    },
    {
      "cell_type": "markdown",
      "metadata": {
        "id": "5Qdoz1MaRPuZ",
        "colab_type": "text"
      },
      "source": [
        "## Confusion Matrix generation"
      ]
    },
    {
      "cell_type": "markdown",
      "metadata": {
        "id": "c9cIJT0FRPua",
        "colab_type": "text"
      },
      "source": [
        "### Prediction for a specific testing data generte confusion matrix"
      ]
    },
    {
      "cell_type": "code",
      "metadata": {
        "id": "tLxG42I1RPug",
        "colab_type": "code",
        "colab": {}
      },
      "source": [
        "Y_prediction = cnnModel.predict(Xtest)\n",
        "\n",
        "# Convert predictions classes to one hot vectors \n",
        "Y_pred_classes = np.argmax(Y_prediction, axis = 1) \n",
        "\n",
        "# Convert validation observations to one hot vectors\n",
        "Y_true = np.argmax(Ytest,axis = 1) \n",
        "\n"
      ],
      "execution_count": 0,
      "outputs": []
    },
    {
      "cell_type": "code",
      "metadata": {
        "id": "cAf5r2_KRPul",
        "colab_type": "code",
        "colab": {
          "base_uri": "https://localhost:8080/",
          "height": 316
        },
        "outputId": "40c32da2-81ea-4ddb-dc52-a30ee3417aed"
      },
      "source": [
        "# Classification Report\n",
        "\n",
        "from sklearn.metrics import classification_report \n",
        "\n",
        "print(classification_report(Y_true, Y_pred_classes))"
      ],
      "execution_count": 14,
      "outputs": [
        {
          "output_type": "stream",
          "text": [
            "              precision    recall  f1-score   support\n",
            "\n",
            "           0       1.00      0.99      0.99       980\n",
            "           1       0.99      0.99      0.99      1135\n",
            "           2       0.99      0.99      0.99      1032\n",
            "           3       0.99      0.99      0.99      1010\n",
            "           4       1.00      0.98      0.99       982\n",
            "           5       0.99      0.99      0.99       892\n",
            "           6       1.00      0.99      0.99       958\n",
            "           7       0.98      0.99      0.99      1028\n",
            "           8       0.98      0.99      0.99       974\n",
            "           9       0.98      0.99      0.98      1009\n",
            "\n",
            "    accuracy                           0.99     10000\n",
            "   macro avg       0.99      0.99      0.99     10000\n",
            "weighted avg       0.99      0.99      0.99     10000\n",
            "\n"
          ],
          "name": "stdout"
        }
      ]
    },
    {
      "cell_type": "code",
      "metadata": {
        "id": "Gj59y-RMRPup",
        "colab_type": "code",
        "colab": {
          "base_uri": "https://localhost:8080/",
          "height": 538
        },
        "outputId": "cfcf0f86-88a5-4869-8a00-e019d06cc789"
      },
      "source": [
        "# confusion matrix\n",
        "from sklearn.metrics import confusion_matrix\n",
        "import seaborn as sns\n",
        "\n",
        "# compute the confusion matrix\n",
        "confusion_mtx = confusion_matrix(Y_true, Y_pred_classes) \n",
        "\n",
        "plt.figure(figsize=(10,8))\n",
        "sns.heatmap(confusion_mtx, annot=True, fmt=\"d\");"
      ],
      "execution_count": 15,
      "outputs": [
        {
          "output_type": "stream",
          "text": [
            "/usr/local/lib/python3.6/dist-packages/statsmodels/tools/_testing.py:19: FutureWarning: pandas.util.testing is deprecated. Use the functions in the public API at pandas.testing instead.\n",
            "  import pandas.util.testing as tm\n"
          ],
          "name": "stderr"
        },
        {
          "output_type": "display_data",
          "data": {
            "image/png": "[encoded data removed]",
            "text/plain": [
              "<Figure size 720x576 with 2 Axes>"
            ]
          },
          "metadata": {
            "tags": []
          }
        }
      ]
    },
    {
      "cell_type": "markdown",
      "metadata": {
        "id": "TjnKJT9TRPu0",
        "colab_type": "text"
      },
      "source": [
        "Modify the code to get a better testing accuracy.\n",
        "- Change the number of hidden units\n",
        "- Increase the number of hidden layers\n",
        "- Use a different optimizer\n",
        "- Train for more epochs for better graphs\n",
        "\n",
        "- Try using CIFAR dataset"
      ]
    }
  ]
}