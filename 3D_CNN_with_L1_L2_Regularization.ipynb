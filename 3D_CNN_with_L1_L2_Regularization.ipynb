{
  "nbformat": 4,
  "nbformat_minor": 0,
  "metadata": {
    "kernelspec": {
      "name": "python3",
      "display_name": "Python 3"
    },
    "language_info": {
      "codemirror_mode": {
        "name": "ipython",
        "version": 3
      },
      "file_extension": ".py",
      "mimetype": "text/x-python",
      "name": "python",
      "nbconvert_exporter": "python",
      "pygments_lexer": "ipython3",
      "version": "3.7.3"
    },
    "colab": {
      "name": "3D CNN with L1-L2 Regularization.ipynb",
      "provenance": []
    },
    "accelerator": "GPU"
  },
  "cells": [
    {
      "cell_type": "markdown",
      "metadata": {
        "id": "X_9ngE-wRVug",
        "colab_type": "text"
      },
      "source": [
        "# Convolutional Neural Network with L1 / L2 Regularization"
      ]
    },
    {
      "cell_type": "code",
      "metadata": {
        "id": "pZOUE9MVRVuk",
        "colab_type": "code",
        "colab": {}
      },
      "source": [
        "# Import Libraries\n",
        "# - Tensorflow\n",
        "# - Keras\n",
        "# - numpy and random\n",
        "\n",
        "import tensorflow as tf\n",
        "from tensorflow.keras import models\n",
        "from tensorflow.keras import layers\n",
        "\n",
        "from tensorflow.keras import regularizers\n",
        "\n",
        "import random\n",
        "import numpy as np\n",
        "\n",
        "import matplotlib.pyplot as plt\n",
        "%matplotlib inline"
      ],
      "execution_count": 0,
      "outputs": []
    },
    {
      "cell_type": "code",
      "metadata": {
        "id": "eRGbjjkiRVus",
        "colab_type": "code",
        "colab": {}
      },
      "source": [
        "random.seed(42)         # Initialize the random number generator.\n",
        "np.random.seed(42)      # With the seed reset, the same set of numbers will appear every time. \n",
        "tf.random.set_seed(42)  # sets the graph-level random seed"
      ],
      "execution_count": 0,
      "outputs": []
    },
    {
      "cell_type": "markdown",
      "metadata": {
        "id": "00kpPWTSRVu0",
        "colab_type": "text"
      },
      "source": [
        "## Dataset - MNIST"
      ]
    },
    {
      "cell_type": "code",
      "metadata": {
        "id": "UhCZAQpYRVu2",
        "colab_type": "code",
        "colab": {
          "base_uri": "https://localhost:8080/",
          "height": 87
        },
        "outputId": "9e6a29b0-2dbd-4418-8d41-3b09682e25b0"
      },
      "source": [
        "# Use the MNIST dataset  of Keras.\n",
        "\n",
        "mnist = tf.keras.datasets.mnist\n",
        "\n",
        "(Xtrain, Ytrain), (Xtest,Ytest) = mnist.load_data()\n",
        "\n",
        "# Display size of dataset\n",
        "Xtrain = Xtrain.reshape((60000,28,28,1))\n",
        "Xtrain = Xtrain.astype('float32')/255\n",
        "\n",
        "Xtest = Xtest.reshape((10000,28,28,1))\n",
        "Xtest = Xtest.astype('float32')/255\n",
        "\n",
        "Ytrain = tf.keras.utils.to_categorical(Ytrain)\n",
        "Ytest = tf.keras.utils.to_categorical(Ytest)\n",
        "\n",
        "print(Xtrain.shape, Xtest.shape)\n",
        "print(Ytrain.shape, Ytest.shape)"
      ],
      "execution_count": 5,
      "outputs": [
        {
          "output_type": "stream",
          "text": [
            "Downloading data from https://storage.googleapis.com/tensorflow/tf-keras-datasets/mnist.npz\n",
            "11493376/11490434 [==============================] - 0s 0us/step\n",
            "(60000, 28, 28, 1) (10000, 28, 28, 1)\n",
            "(60000, 10) (10000, 10)\n"
          ],
          "name": "stdout"
        }
      ]
    },
    {
      "cell_type": "markdown",
      "metadata": {
        "id": "WZDhDUbVRVu_",
        "colab_type": "text"
      },
      "source": [
        "## Create a CNN Model"
      ]
    },
    {
      "cell_type": "code",
      "metadata": {
        "id": "wnr8CvxlRVvA",
        "colab_type": "code",
        "colab": {
          "base_uri": "https://localhost:8080/",
          "height": 509
        },
        "outputId": "a108630e-3f75-4717-d4cb-9ed659d54454"
      },
      "source": [
        "# Create a Sequential model object\n",
        "cnnModel = models.Sequential()\n",
        "\n",
        "# Add layers Conv2D for CNN and sepcify MaxPooling\n",
        "\n",
        "# Layer 1 = input layer\n",
        "cnnModel.add(layers.Conv2D(32, (3,3), activation=\"relu\", input_shape=(28,28,1) ))\n",
        "\n",
        "cnnModel.add(layers.MaxPooling2D((2,2)))\n",
        "\n",
        "\n",
        "# Layer 2\n",
        "cnnModel.add(layers.Conv2D(64, (3,3), activation=\"relu\"))\n",
        "\n",
        "cnnModel.add(layers.MaxPooling2D((2,2)))\n",
        "\n",
        "\n",
        "# layer 2 with L1-L2 with Regularizers\n",
        "cnnModel.add(layers.Dense(30, activation='relu', \n",
        "                          kernel_regularizer = regularizers.l1_l2(l1=0.01, l2=0.01),\n",
        "                          activity_regularizer = regularizers.l1_l2(l1=0.01, l2=0.01) ) )\n",
        "\n",
        "\n",
        "# Layer 3\n",
        "cnnModel.add(layers.Conv2D(64, (3,3), activation=\"relu\" ))\n",
        "cnnModel.add(layers.Flatten())\n",
        "\n",
        "\n",
        "# Add Dense layers or fully connected layers\n",
        "# Layer 4\n",
        "cnnModel.add(layers.Dense(64, activation=\"relu\" ))\n",
        "\n",
        "# Layer 5\n",
        "cnnModel.add(layers.Dense(32, activation=\"relu\" ))\n",
        "\n",
        "# Layer 6\n",
        "cnnModel.add(layers.Dense(10, activation=\"softmax\" ))\n",
        "\n",
        "cnnModel.summary()\n"
      ],
      "execution_count": 6,
      "outputs": [
        {
          "output_type": "stream",
          "text": [
            "Model: \"sequential\"\n",
            "_________________________________________________________________\n",
            "Layer (type)                 Output Shape              Param #   \n",
            "=================================================================\n",
            "conv2d (Conv2D)              (None, 26, 26, 32)        320       \n",
            "_________________________________________________________________\n",
            "max_pooling2d (MaxPooling2D) (None, 13, 13, 32)        0         \n",
            "_________________________________________________________________\n",
            "conv2d_1 (Conv2D)            (None, 11, 11, 64)        18496     \n",
            "_________________________________________________________________\n",
            "max_pooling2d_1 (MaxPooling2 (None, 5, 5, 64)          0         \n",
            "_________________________________________________________________\n",
            "dense (Dense)                (None, 5, 5, 30)          1950      \n",
            "_________________________________________________________________\n",
            "conv2d_2 (Conv2D)            (None, 3, 3, 64)          17344     \n",
            "_________________________________________________________________\n",
            "flatten (Flatten)            (None, 576)               0         \n",
            "_________________________________________________________________\n",
            "dense_1 (Dense)              (None, 64)                36928     \n",
            "_________________________________________________________________\n",
            "dense_2 (Dense)              (None, 32)                2080      \n",
            "_________________________________________________________________\n",
            "dense_3 (Dense)              (None, 10)                330       \n",
            "=================================================================\n",
            "Total params: 77,448\n",
            "Trainable params: 77,448\n",
            "Non-trainable params: 0\n",
            "_________________________________________________________________\n"
          ],
          "name": "stdout"
        }
      ]
    },
    {
      "cell_type": "code",
      "metadata": {
        "id": "7x_42-CsRVvI",
        "colab_type": "code",
        "colab": {}
      },
      "source": [
        "# Configure  the model for training, by using appropriate optimizers and regularizations\n",
        "# Available optimizer: adam, rmsprop, adagrad, sgd\n",
        "# loss:  objective that the model will try to minimize. \n",
        "# Available loss: categorical_crossentropy, binary_crossentropy, mean_squared_error\n",
        "# metrics: List of metrics to be evaluated by the model during training and testing. \n",
        "\n",
        "cnnModel.compile(optimizer = \"adam\", loss = \"categorical_crossentropy\", metrics = [\"accuracy\"])\n"
      ],
      "execution_count": 0,
      "outputs": []
    },
    {
      "cell_type": "code",
      "metadata": {
        "id": "yoSIZu_7RVvV",
        "colab_type": "code",
        "colab": {
          "base_uri": "https://localhost:8080/",
          "height": 896
        },
        "outputId": "cd159e64-e27a-4db2-d90f-9ab51b4ea6c7"
      },
      "source": [
        "# train the model\n",
        "\n",
        "history = cnnModel.fit(Xtrain, Ytrain, epochs = 25, batch_size = 64, validation_split = 0.1)"
      ],
      "execution_count": 8,
      "outputs": [
        {
          "output_type": "stream",
          "text": [
            "Epoch 1/25\n",
            "844/844 [==============================] - 5s 6ms/step - loss: 0.8508 - accuracy: 0.8727 - val_loss: 0.2084 - val_accuracy: 0.9713\n",
            "Epoch 2/25\n",
            "844/844 [==============================] - 5s 6ms/step - loss: 0.1897 - accuracy: 0.9675 - val_loss: 0.1348 - val_accuracy: 0.9792\n",
            "Epoch 3/25\n",
            "844/844 [==============================] - 5s 6ms/step - loss: 0.1359 - accuracy: 0.9756 - val_loss: 0.1169 - val_accuracy: 0.9813\n",
            "Epoch 4/25\n",
            "844/844 [==============================] - 5s 6ms/step - loss: 0.1121 - accuracy: 0.9789 - val_loss: 0.0945 - val_accuracy: 0.9862\n",
            "Epoch 5/25\n",
            "844/844 [==============================] - 5s 6ms/step - loss: 0.0960 - accuracy: 0.9816 - val_loss: 0.0910 - val_accuracy: 0.9842\n",
            "Epoch 6/25\n",
            "844/844 [==============================] - 5s 6ms/step - loss: 0.0872 - accuracy: 0.9834 - val_loss: 0.0946 - val_accuracy: 0.9827\n",
            "Epoch 7/25\n",
            "844/844 [==============================] - 5s 6ms/step - loss: 0.0814 - accuracy: 0.9842 - val_loss: 0.0766 - val_accuracy: 0.9875\n",
            "Epoch 8/25\n",
            "844/844 [==============================] - 5s 6ms/step - loss: 0.0762 - accuracy: 0.9853 - val_loss: 0.0717 - val_accuracy: 0.9880\n",
            "Epoch 9/25\n",
            "844/844 [==============================] - 5s 6ms/step - loss: 0.0705 - accuracy: 0.9867 - val_loss: 0.0690 - val_accuracy: 0.9885\n",
            "Epoch 10/25\n",
            "844/844 [==============================] - 5s 6ms/step - loss: 0.0681 - accuracy: 0.9872 - val_loss: 0.0704 - val_accuracy: 0.9870\n",
            "Epoch 11/25\n",
            "844/844 [==============================] - 5s 6ms/step - loss: 0.0631 - accuracy: 0.9884 - val_loss: 0.0949 - val_accuracy: 0.9797\n",
            "Epoch 12/25\n",
            "844/844 [==============================] - 5s 5ms/step - loss: 0.0597 - accuracy: 0.9894 - val_loss: 0.0808 - val_accuracy: 0.9828\n",
            "Epoch 13/25\n",
            "844/844 [==============================] - 5s 6ms/step - loss: 0.0569 - accuracy: 0.9899 - val_loss: 0.0661 - val_accuracy: 0.9883\n",
            "Epoch 14/25\n",
            "844/844 [==============================] - 5s 6ms/step - loss: 0.0546 - accuracy: 0.9904 - val_loss: 0.0863 - val_accuracy: 0.9812\n",
            "Epoch 15/25\n",
            "844/844 [==============================] - 5s 6ms/step - loss: 0.0540 - accuracy: 0.9908 - val_loss: 0.0691 - val_accuracy: 0.9872\n",
            "Epoch 16/25\n",
            "844/844 [==============================] - 5s 5ms/step - loss: 0.0502 - accuracy: 0.9916 - val_loss: 0.0656 - val_accuracy: 0.9883\n",
            "Epoch 17/25\n",
            "844/844 [==============================] - 5s 6ms/step - loss: 0.0484 - accuracy: 0.9916 - val_loss: 0.0695 - val_accuracy: 0.9867\n",
            "Epoch 18/25\n",
            "844/844 [==============================] - 5s 6ms/step - loss: 0.0462 - accuracy: 0.9927 - val_loss: 0.0671 - val_accuracy: 0.9877\n",
            "Epoch 19/25\n",
            "844/844 [==============================] - 5s 6ms/step - loss: 0.0455 - accuracy: 0.9926 - val_loss: 0.0568 - val_accuracy: 0.9888\n",
            "Epoch 20/25\n",
            "844/844 [==============================] - 5s 6ms/step - loss: 0.0436 - accuracy: 0.9931 - val_loss: 0.0608 - val_accuracy: 0.9908\n",
            "Epoch 21/25\n",
            "844/844 [==============================] - 5s 6ms/step - loss: 0.0441 - accuracy: 0.9932 - val_loss: 0.0679 - val_accuracy: 0.9875\n",
            "Epoch 22/25\n",
            "844/844 [==============================] - 5s 6ms/step - loss: 0.0419 - accuracy: 0.9935 - val_loss: 0.0580 - val_accuracy: 0.9900\n",
            "Epoch 23/25\n",
            "844/844 [==============================] - 5s 5ms/step - loss: 0.0395 - accuracy: 0.9942 - val_loss: 0.0748 - val_accuracy: 0.9857\n",
            "Epoch 24/25\n",
            "844/844 [==============================] - 5s 6ms/step - loss: 0.0388 - accuracy: 0.9946 - val_loss: 0.0793 - val_accuracy: 0.9867\n",
            "Epoch 25/25\n",
            "844/844 [==============================] - 5s 6ms/step - loss: 0.0359 - accuracy: 0.9949 - val_loss: 0.0658 - val_accuracy: 0.9883\n"
          ],
          "name": "stdout"
        }
      ]
    },
    {
      "cell_type": "code",
      "metadata": {
        "id": "av1fwYnoRVvh",
        "colab_type": "code",
        "colab": {
          "base_uri": "https://localhost:8080/",
          "height": 52
        },
        "outputId": "b169cf44-d905-4ee8-8f1d-94d08767e619"
      },
      "source": [
        "print('Final training loss \\t', history.history['loss'][-1])\n",
        "print('Final training accuracy ', history.history['accuracy'][-1])"
      ],
      "execution_count": 9,
      "outputs": [
        {
          "output_type": "stream",
          "text": [
            "Final training loss \t 0.03586496412754059\n",
            "Final training accuracy  0.9949073791503906\n"
          ],
          "name": "stdout"
        }
      ]
    },
    {
      "cell_type": "markdown",
      "metadata": {
        "id": "Xyswl86HRVvs",
        "colab_type": "text"
      },
      "source": [
        "## Results and Outputs"
      ]
    },
    {
      "cell_type": "code",
      "metadata": {
        "id": "iJJ58FyPRVvt",
        "colab_type": "code",
        "colab": {
          "base_uri": "https://localhost:8080/",
          "height": 34
        },
        "outputId": "21318e91-9c3f-4d1f-d09d-537f8e7da787"
      },
      "source": [
        "# testing the model\n",
        "\n",
        "testLoss, testAccuracy = cnnModel.evaluate( Xtest, Ytest)"
      ],
      "execution_count": 10,
      "outputs": [
        {
          "output_type": "stream",
          "text": [
            "313/313 [==============================] - 1s 3ms/step - loss: 0.0622 - accuracy: 0.9868\n"
          ],
          "name": "stdout"
        }
      ]
    },
    {
      "cell_type": "code",
      "metadata": {
        "id": "I4bUfgIuRVv5",
        "colab_type": "code",
        "colab": {
          "base_uri": "https://localhost:8080/",
          "height": 52
        },
        "outputId": "2330b258-8eda-4cd4-ee8d-e0845c9d1c18"
      },
      "source": [
        "print('Testing loss \\t', testLoss)\n",
        "print('Testing accuracy ', testAccuracy)"
      ],
      "execution_count": 11,
      "outputs": [
        {
          "output_type": "stream",
          "text": [
            "Testing loss \t 0.06220807135105133\n",
            "Testing accuracy  0.9868000149726868\n"
          ],
          "name": "stdout"
        }
      ]
    },
    {
      "cell_type": "code",
      "metadata": {
        "id": "OFWNPhOORVwB",
        "colab_type": "code",
        "colab": {
          "base_uri": "https://localhost:8080/",
          "height": 573
        },
        "outputId": "95f113e7-769d-41e3-b8d0-1afccf6c07d2"
      },
      "source": [
        "# plotting training and validation loss\n",
        "\n",
        "loss = history.history['loss']\n",
        "val_loss = history.history['val_loss']\n",
        "epochs = range(1, len(loss) + 1)\n",
        "plt.plot(epochs, loss, color='red', label='Training loss')\n",
        "plt.plot(epochs, val_loss, color='green', label='Validation loss')\n",
        "plt.title('Training and Validation loss')\n",
        "plt.xlabel('Epochs')\n",
        "plt.ylabel('Loss')\n",
        "plt.legend()\n",
        "plt.show()\n",
        "\n",
        "# plotting training and validation accuracy\n",
        "\n",
        "acc = history.history['accuracy']\n",
        "val_acc = history.history['val_accuracy']\n",
        "plt.plot(epochs, acc, color='red', label='Training acc')\n",
        "plt.plot(epochs, val_acc, color='green', label='Validation acc')\n",
        "plt.title('Training and Validation accuracy')\n",
        "plt.xlabel('Epochs')\n",
        "plt.ylabel('Loss')\n",
        "plt.legend()\n",
        "plt.show()"
      ],
      "execution_count": 12,
      "outputs": [
        {
          "output_type": "display_data",
          "data": {
            "image/png": "[encoded data removed]",
            "text/plain": [
              "<Figure size 432x288 with 1 Axes>"
            ]
          },
          "metadata": {
            "tags": []
          }
        },
        {
          "output_type": "display_data",
          "data": {
            "image/png": "[encoded data removed]",
            "text/plain": [
              "<Figure size 432x288 with 1 Axes>"
            ]
          },
          "metadata": {
            "tags": []
          }
        }
      ]
    },
    {
      "cell_type": "markdown",
      "metadata": {
        "id": "C6uuPo3tRVwP",
        "colab_type": "text"
      },
      "source": [
        "## Confusion Matrix generation"
      ]
    },
    {
      "cell_type": "markdown",
      "metadata": {
        "id": "gDc6ojnyRVwR",
        "colab_type": "text"
      },
      "source": [
        "### Prediction for a specific testing data generte confusion matrix"
      ]
    },
    {
      "cell_type": "code",
      "metadata": {
        "id": "hePf_WyPRVwU",
        "colab_type": "code",
        "colab": {}
      },
      "source": [
        "Y_prediction = cnnModel.predict(Xtest)\n",
        "\n",
        "# Convert predictions classes to one hot vectors \n",
        "Y_pred_classes = np.argmax(Y_prediction, axis = 1) \n",
        "\n",
        "# Convert validation observations to one hot vectors\n",
        "Y_true = np.argmax(Ytest,axis = 1) \n",
        "\n"
      ],
      "execution_count": 0,
      "outputs": []
    },
    {
      "cell_type": "code",
      "metadata": {
        "id": "IkaoyDNYRVwe",
        "colab_type": "code",
        "colab": {
          "base_uri": "https://localhost:8080/",
          "height": 316
        },
        "outputId": "ad3515b5-0f92-4acb-99e2-25ffc09a991b"
      },
      "source": [
        "# Classification Report\n",
        "\n",
        "from sklearn.metrics import classification_report \n",
        "\n",
        "print(classification_report(Y_true, Y_pred_classes))"
      ],
      "execution_count": 14,
      "outputs": [
        {
          "output_type": "stream",
          "text": [
            "              precision    recall  f1-score   support\n",
            "\n",
            "           0       0.99      0.99      0.99       980\n",
            "           1       0.99      0.99      0.99      1135\n",
            "           2       0.98      1.00      0.99      1032\n",
            "           3       0.96      1.00      0.98      1010\n",
            "           4       1.00      0.98      0.99       982\n",
            "           5       0.98      0.98      0.98       892\n",
            "           6       1.00      0.99      0.99       958\n",
            "           7       1.00      0.97      0.98      1028\n",
            "           8       0.99      0.98      0.99       974\n",
            "           9       0.98      0.98      0.98      1009\n",
            "\n",
            "    accuracy                           0.99     10000\n",
            "   macro avg       0.99      0.99      0.99     10000\n",
            "weighted avg       0.99      0.99      0.99     10000\n",
            "\n"
          ],
          "name": "stdout"
        }
      ]
    },
    {
      "cell_type": "code",
      "metadata": {
        "id": "BjS8_moDRVwk",
        "colab_type": "code",
        "colab": {
          "base_uri": "https://localhost:8080/",
          "height": 538
        },
        "outputId": "569ff8e9-b2a3-4cbc-b3cc-189bace51bdf"
      },
      "source": [
        "# confusion matrix\n",
        "from sklearn.metrics import confusion_matrix\n",
        "import seaborn as sns\n",
        "\n",
        "# compute the confusion matrix\n",
        "confusion_mtx = confusion_matrix(Y_true, Y_pred_classes) \n",
        "\n",
        "plt.figure(figsize=(10,8))\n",
        "sns.heatmap(confusion_mtx, annot=True, fmt=\"d\");"
      ],
      "execution_count": 15,
      "outputs": [
        {
          "output_type": "stream",
          "text": [
            "/usr/local/lib/python3.6/dist-packages/statsmodels/tools/_testing.py:19: FutureWarning: pandas.util.testing is deprecated. Use the functions in the public API at pandas.testing instead.\n",
            "  import pandas.util.testing as tm\n"
          ],
          "name": "stderr"
        },
        {
          "output_type": "display_data",
          "data": {
            "image/png": "[encoded data removed]",
            "text/plain": [
              "<Figure size 720x576 with 2 Axes>"
            ]
          },
          "metadata": {
            "tags": []
          }
        }
      ]
    },
    {
      "cell_type": "markdown",
      "metadata": {
        "id": "rnqOYcwLRVwu",
        "colab_type": "text"
      },
      "source": [
        "Modify the code to get a better testing accuracy.\n",
        "- Change the number of hidden units\n",
        "- Increase the number of hidden layers\n",
        "- Use a different optimizer\n",
        "- Train for more epochs for better graphs\n",
        "\n",
        "- Try using CIFAR dataset"
      ]
    }
  ]
}