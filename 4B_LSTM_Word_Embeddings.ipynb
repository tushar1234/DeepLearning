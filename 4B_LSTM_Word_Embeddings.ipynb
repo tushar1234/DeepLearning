{
  "nbformat": 4,
  "nbformat_minor": 0,
  "metadata": {
    "kernelspec": {
      "display_name": "Python 3",
      "language": "python",
      "name": "python3"
    },
    "language_info": {
      "codemirror_mode": {
        "name": "ipython",
        "version": 3
      },
      "file_extension": ".py",
      "mimetype": "text/x-python",
      "name": "python",
      "nbconvert_exporter": "python",
      "pygments_lexer": "ipython3",
      "version": "3.7.3"
    },
    "colab": {
      "name": "4B LSTM Word Embeddings.ipynb",
      "provenance": []
    },
    "accelerator": "GPU"
  },
  "cells": [
    {
      "cell_type": "markdown",
      "metadata": {
        "id": "4gr95j8R9-S8",
        "colab_type": "text"
      },
      "source": [
        "# Learning Word Embeddings"
      ]
    },
    {
      "cell_type": "code",
      "metadata": {
        "id": "ZuwxBuAj9-S-",
        "colab_type": "code",
        "colab": {}
      },
      "source": [
        "import numpy as np\n",
        "\n",
        "import matplotlib.pyplot as plt\n",
        "%matplotlib inline\n",
        "\n",
        "import pandas as pd\n",
        "\n",
        "import tensorflow as tf\n",
        "from tensorflow import keras"
      ],
      "execution_count": 0,
      "outputs": []
    },
    {
      "cell_type": "code",
      "metadata": {
        "id": "oo4Uwil79-TH",
        "colab_type": "code",
        "colab": {}
      },
      "source": [
        "tf.random.set_seed(42)"
      ],
      "execution_count": 0,
      "outputs": []
    },
    {
      "cell_type": "markdown",
      "metadata": {
        "id": "oaD0r6uX9-TM",
        "colab_type": "text"
      },
      "source": [
        "## Dataset - IMDB"
      ]
    },
    {
      "cell_type": "code",
      "metadata": {
        "id": "b4GDT3r-9-TN",
        "colab_type": "code",
        "colab": {
          "base_uri": "https://localhost:8080/",
          "height": 122
        },
        "outputId": "bfca5be9-e4f0-44c9-9cf7-2a61399083ec"
      },
      "source": [
        "imdb = keras.datasets.imdb\n",
        "\n",
        "max_features = 20000\n",
        "\n",
        "(Xtrain, Ytrain), (Xtest, Ytest) = imdb.load_data(num_words = max_features)\n",
        "\n",
        "\n",
        "# Downloading data from https://storage.googleapis.com/tensorflow/tf-keras-datasets/imdb.npz\n",
        "# 17465344/17464789 [==============================] - 8s 0us/step\n",
        "\n",
        "\n",
        "print(len(Xtrain), len(Ytrain))\n",
        "print(len(Xtest), len(Ytest))\n",
        "\n",
        "Xtrain = keras.preprocessing.sequence.pad_sequences(Xtrain, maxlen =25)\n",
        "Xtest = keras.preprocessing.sequence.pad_sequences(Xtest, maxlen =25)\n",
        "\n",
        "print(len(Xtrain), len(Ytrain))\n",
        "print(len(Xtest), len(Ytest))"
      ],
      "execution_count": 8,
      "outputs": [
        {
          "output_type": "stream",
          "text": [
            "Downloading data from https://storage.googleapis.com/tensorflow/tf-keras-datasets/imdb.npz\n",
            "17465344/17464789 [==============================] - 0s 0us/step\n",
            "25000 25000\n",
            "25000 25000\n",
            "25000 25000\n",
            "25000 25000\n"
          ],
          "name": "stdout"
        }
      ]
    },
    {
      "cell_type": "markdown",
      "metadata": {
        "id": "r3aq_I209-TZ",
        "colab_type": "text"
      },
      "source": [
        "## LSTM"
      ]
    },
    {
      "cell_type": "code",
      "metadata": {
        "id": "G7Fww-Sp9-Tb",
        "colab_type": "code",
        "colab": {
          "base_uri": "https://localhost:8080/",
          "height": 263
        },
        "outputId": "01278abc-b0ca-4b59-d0d6-69211322a992"
      },
      "source": [
        "lstmModel = keras.models.Sequential()\n",
        "\n",
        "lstmModel.add(keras.layers.Embedding(input_dim = max_features, output_dim = 128))\n",
        "\n",
        "lstmModel.add(keras.layers.LSTM(128, dropout=0.2)) #, recurrent_dropout=0.2\n",
        "\n",
        "lstmModel.add(keras.layers.Dense(1, activation = 'sigmoid'))\n",
        "\n",
        "lstmModel.summary()"
      ],
      "execution_count": 9,
      "outputs": [
        {
          "output_type": "stream",
          "text": [
            "Model: \"sequential\"\n",
            "_________________________________________________________________\n",
            "Layer (type)                 Output Shape              Param #   \n",
            "=================================================================\n",
            "embedding (Embedding)        (None, None, 128)         2560000   \n",
            "_________________________________________________________________\n",
            "lstm (LSTM)                  (None, 128)               131584    \n",
            "_________________________________________________________________\n",
            "dense (Dense)                (None, 1)                 129       \n",
            "=================================================================\n",
            "Total params: 2,691,713\n",
            "Trainable params: 2,691,713\n",
            "Non-trainable params: 0\n",
            "_________________________________________________________________\n"
          ],
          "name": "stdout"
        }
      ]
    },
    {
      "cell_type": "code",
      "metadata": {
        "id": "g_18Fzue9-Ti",
        "colab_type": "code",
        "colab": {}
      },
      "source": [
        "# Configure  the model for training, by using appropriate optimizers and regularizations\n",
        "# Available optimizer: adam, rmsprop, adagrad, sgd\n",
        "# loss:  objective that the model will try to minimize. \n",
        "# Available loss: categorical_crossentropy, binary_crossentropy, mean_squared_error\n",
        "# metrics: List of metrics to be evaluated by the model during training and testing. \n",
        "\n",
        "lstmModel.compile(loss='binary_crossentropy', optimizer='adam', metrics=['accuracy'])"
      ],
      "execution_count": 0,
      "outputs": []
    },
    {
      "cell_type": "code",
      "metadata": {
        "id": "pRsvydgn9-Tr",
        "colab_type": "code",
        "colab": {
          "base_uri": "https://localhost:8080/",
          "height": 544
        },
        "outputId": "22e26711-1135-48b6-91d3-c130a1280593"
      },
      "source": [
        "# train the model\n",
        "\n",
        "history = lstmModel.fit(Xtrain, Ytrain, epochs = 15, batch_size=16, validation_split=0.2, verbose=1 )"
      ],
      "execution_count": 11,
      "outputs": [
        {
          "output_type": "stream",
          "text": [
            "Epoch 1/15\n",
            "1250/1250 [==============================] - 28s 23ms/step - loss: 0.5100 - accuracy: 0.7418 - val_loss: 0.4673 - val_accuracy: 0.7632\n",
            "Epoch 2/15\n",
            "1250/1250 [==============================] - 28s 22ms/step - loss: 0.3515 - accuracy: 0.8446 - val_loss: 0.4867 - val_accuracy: 0.7622\n",
            "Epoch 3/15\n",
            "1250/1250 [==============================] - 28s 22ms/step - loss: 0.2371 - accuracy: 0.9037 - val_loss: 0.5927 - val_accuracy: 0.7556\n",
            "Epoch 4/15\n",
            "1250/1250 [==============================] - 28s 22ms/step - loss: 0.1519 - accuracy: 0.9405 - val_loss: 0.6633 - val_accuracy: 0.7482\n",
            "Epoch 5/15\n",
            "1250/1250 [==============================] - 28s 23ms/step - loss: 0.0936 - accuracy: 0.9653 - val_loss: 1.0900 - val_accuracy: 0.7462\n",
            "Epoch 6/15\n",
            "1250/1250 [==============================] - 28s 22ms/step - loss: 0.0573 - accuracy: 0.9787 - val_loss: 1.1628 - val_accuracy: 0.7442\n",
            "Epoch 7/15\n",
            "1250/1250 [==============================] - 28s 22ms/step - loss: 0.0381 - accuracy: 0.9868 - val_loss: 1.1665 - val_accuracy: 0.7426\n",
            "Epoch 8/15\n",
            "1250/1250 [==============================] - 28s 22ms/step - loss: 0.0270 - accuracy: 0.9913 - val_loss: 1.3028 - val_accuracy: 0.7408\n",
            "Epoch 9/15\n",
            "1250/1250 [==============================] - 28s 22ms/step - loss: 0.0202 - accuracy: 0.9936 - val_loss: 1.5435 - val_accuracy: 0.7404\n",
            "Epoch 10/15\n",
            "1250/1250 [==============================] - 28s 23ms/step - loss: 0.0149 - accuracy: 0.9949 - val_loss: 1.5459 - val_accuracy: 0.7356\n",
            "Epoch 11/15\n",
            "1250/1250 [==============================] - 27s 22ms/step - loss: 0.0082 - accuracy: 0.9973 - val_loss: 1.6488 - val_accuracy: 0.7362\n",
            "Epoch 12/15\n",
            "1250/1250 [==============================] - 27s 22ms/step - loss: 0.0082 - accuracy: 0.9973 - val_loss: 1.8838 - val_accuracy: 0.7322\n",
            "Epoch 13/15\n",
            "1250/1250 [==============================] - 28s 22ms/step - loss: 0.0110 - accuracy: 0.9961 - val_loss: 1.6375 - val_accuracy: 0.7360\n",
            "Epoch 14/15\n",
            "1250/1250 [==============================] - 27s 22ms/step - loss: 0.0061 - accuracy: 0.9981 - val_loss: 1.8916 - val_accuracy: 0.7328\n",
            "Epoch 15/15\n",
            "1250/1250 [==============================] - 28s 22ms/step - loss: 0.0039 - accuracy: 0.9989 - val_loss: 1.8880 - val_accuracy: 0.7264\n"
          ],
          "name": "stdout"
        }
      ]
    },
    {
      "cell_type": "code",
      "metadata": {
        "id": "sXEoyRAd9-T3",
        "colab_type": "code",
        "colab": {
          "base_uri": "https://localhost:8080/",
          "height": 573
        },
        "outputId": "a481139a-33ab-46db-ff20-34f4ec858416"
      },
      "source": [
        "# plotting training and validation loss\n",
        "\n",
        "loss = history.history['loss']\n",
        "val_loss = history.history['val_loss']\n",
        "epochs = range(1, len(loss) + 1)\n",
        "plt.plot(epochs, loss, color='red', label='Training loss')\n",
        "plt.plot(epochs, val_loss, color='green', label='Validation loss')\n",
        "plt.title('Training and Validation loss')\n",
        "plt.xlabel('Epochs')\n",
        "plt.ylabel('Loss')\n",
        "plt.legend()\n",
        "plt.show()\n",
        "\n",
        "\n",
        "#pd.DataFrame(history.history).plot()\n",
        "#plt.show()\n",
        "\n",
        "# plotting training and validation loss\n",
        "\n",
        "loss = history.history['accuracy']\n",
        "val_loss = history.history['val_accuracy']\n",
        "epochs = range(1, len(loss) + 1)\n",
        "plt.plot(epochs, loss, color='red', label='Training Accuracy')\n",
        "plt.plot(epochs, val_loss, color='green', label='Validation Accuracy')\n",
        "plt.title('Training and Validation Accuracy')\n",
        "plt.xlabel('Epochs')\n",
        "plt.ylabel('Loss')\n",
        "plt.legend()\n",
        "plt.show()"
      ],
      "execution_count": 14,
      "outputs": [
        {
          "output_type": "display_data",
          "data": {
            "image/png": "[encoded data removed]",
            "text/plain": [
              "<Figure size 432x288 with 1 Axes>"
            ]
          },
          "metadata": {
            "tags": [],
            "needs_background": "light"
          }
        },
        {
          "output_type": "display_data",
          "data": {
            "image/png": "[encoded data removed]",
            "text/plain": [
              "<Figure size 432x288 with 1 Axes>"
            ]
          },
          "metadata": {
            "tags": [],
            "needs_background": "light"
          }
        }
      ]
    },
    {
      "cell_type": "code",
      "metadata": {
        "id": "ImduS-Ir9-T-",
        "colab_type": "code",
        "colab": {
          "base_uri": "https://localhost:8080/",
          "height": 52
        },
        "outputId": "6aa4f3b4-91b1-432f-e34f-8bea18e91b66"
      },
      "source": [
        "testLoss, testAccuracy = lstmModel.evaluate(Xtest, Ytest)\n",
        "print(testLoss, testAccuracy)"
      ],
      "execution_count": 15,
      "outputs": [
        {
          "output_type": "stream",
          "text": [
            "782/782 [==============================] - 2s 3ms/step - loss: 1.8250 - accuracy: 0.7332\n",
            "1.8249614238739014 0.7332000136375427\n"
          ],
          "name": "stdout"
        }
      ]
    }
  ]
}