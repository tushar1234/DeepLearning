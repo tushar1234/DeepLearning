{
  "nbformat": 4,
  "nbformat_minor": 0,
  "metadata": {
    "kernelspec": {
      "display_name": "Python 3",
      "language": "python",
      "name": "python3"
    },
    "language_info": {
      "codemirror_mode": {
        "name": "ipython",
        "version": 3
      },
      "file_extension": ".py",
      "mimetype": "text/x-python",
      "name": "python",
      "nbconvert_exporter": "python",
      "pygments_lexer": "ipython3",
      "version": "3.7.3"
    },
    "colab": {
      "name": "4C GRU TimeSeriesPrediction.ipynb",
      "provenance": []
    },
    "accelerator": "GPU"
  },
  "cells": [
    {
      "cell_type": "markdown",
      "metadata": {
        "id": "md34RAhD-A6j",
        "colab_type": "text"
      },
      "source": [
        "# Multivariate Time Series Forecasting"
      ]
    },
    {
      "cell_type": "code",
      "metadata": {
        "id": "TVolglqG-A6k",
        "colab_type": "code",
        "colab": {}
      },
      "source": [
        "import numpy as np\n",
        "\n",
        "import matplotlib.pyplot as plt\n",
        "%matplotlib inline\n",
        "\n",
        "import pandas as pd\n",
        "\n",
        "import tensorflow as tf\n",
        "from tensorflow import keras\n",
        "\n",
        "from datetime import datetime\n",
        "from sklearn.preprocessing import MinMaxScaler\n",
        "from sklearn.preprocessing import LabelEncoder"
      ],
      "execution_count": 0,
      "outputs": []
    },
    {
      "cell_type": "markdown",
      "metadata": {
        "id": "eMKYkTxE-A6r",
        "colab_type": "text"
      },
      "source": [
        "## Air Pollution Forecasting\n",
        "\n",
        "https://archive.ics.uci.edu/ml/datasets/Beijing+PM2.5+Data\n",
        "\n",
        "Attribute Information:\n",
        "\n",
        " - No    : row number\n",
        " - year  : year of data in this row\n",
        " - month : month of data in this row\n",
        " - day   : day of data in this row\n",
        " - hour  : hour of data in this row\n",
        " - pm2.5 : PM2.5 concentration (ug/m^3)\n",
        " - DEWP  : Dew Point \n",
        " - TEMP  : Temperature\n",
        " - PRES  : Pressure (hPa)\n",
        " - cbwd  : Combined wind direction\n",
        " - Iws   : Cumulated wind speed (m/s)\n",
        " - Is    : Cumulated hours of snow\n",
        " - Ir    : Cumulated hours of rain \n",
        " \n",
        " Ref: https://machinelearningmastery.com/multivariate-time-series-forecasting-lstms-keras/"
      ]
    },
    {
      "cell_type": "markdown",
      "metadata": {
        "id": "eVlAS0ZP-A6r",
        "colab_type": "text"
      },
      "source": [
        "## Dataset preparation"
      ]
    },
    {
      "cell_type": "code",
      "metadata": {
        "id": "PXMtdKMZ-A6u",
        "colab_type": "code",
        "colab": {
          "base_uri": "https://localhost:8080/",
          "height": 140
        },
        "outputId": "cca52c9e-6896-4b2a-ea75-7795661a8d1f"
      },
      "source": [
        "# load data\n",
        "def parse(x):\n",
        "    return datetime.strptime(x, '%Y %m %d %H')\n",
        "\n",
        "dataset = pd.read_csv('raw.csv',  parse_dates = [['year', 'month', 'day', 'hour']], \n",
        "                      index_col=0, date_parser=parse)\n",
        "dataset.drop('No', axis=1, inplace=True)\n",
        "\n",
        "# manually specify column names\n",
        "dataset.columns = ['pollution', 'dew', 'temp', 'press', 'wnd_dir', 'wnd_spd', 'snow', 'rain']\n",
        "dataset.index.name = 'date'\n",
        "\n",
        "# mark all NA values with 0\n",
        "dataset['pollution'].fillna(0, inplace=True)\n",
        "\n",
        "# drop the first 24 hours\n",
        "dataset = dataset[24:]\n",
        "\n",
        "# summarize first 5 rows\n",
        "print(dataset.head(5))\n",
        "\n",
        "# save to file\n",
        "dataset.to_csv('pollution.csv')"
      ],
      "execution_count": 4,
      "outputs": [
        {
          "output_type": "stream",
          "text": [
            "                     pollution  dew  temp   press wnd_dir  wnd_spd  snow  rain\n",
            "date                                                                          \n",
            "2010-01-02 00:00:00      129.0  -16  -4.0  1020.0      SE     1.79     0     0\n",
            "2010-01-02 01:00:00      148.0  -15  -4.0  1020.0      SE     2.68     0     0\n",
            "2010-01-02 02:00:00      159.0  -11  -5.0  1021.0      SE     3.57     0     0\n",
            "2010-01-02 03:00:00      181.0   -7  -5.0  1022.0      SE     5.36     1     0\n",
            "2010-01-02 04:00:00      138.0   -7  -5.0  1022.0      SE     6.25     2     0\n"
          ],
          "name": "stdout"
        }
      ]
    },
    {
      "cell_type": "code",
      "metadata": {
        "id": "cXT5v-uV-A61",
        "colab_type": "code",
        "colab": {
          "base_uri": "https://localhost:8080/",
          "height": 268
        },
        "outputId": "575b1ea9-eb6b-4fb3-fdae-60e03cbe3cdf"
      },
      "source": [
        "# load dataset\n",
        "dataset = pd.read_csv('pollution.csv', header=0, index_col=0)\n",
        "values = dataset.values\n",
        "\n",
        "# specify columns to plot\n",
        "groups = [0, 1, 2, 3, 5, 6, 7]\n",
        "i = 1\n",
        "\n",
        "# plot each column\n",
        "plt.figure()\n",
        "for group in groups:\n",
        "    plt.subplot(len(groups), 1, i)\n",
        "    plt.plot(values[:, group])\n",
        "    plt.title(dataset.columns[group], y=0.5, loc='right')\n",
        "    i += 1\n",
        "plt.show()"
      ],
      "execution_count": 5,
      "outputs": [
        {
          "output_type": "display_data",
          "data": {
            "image/png": "[encoded data removed]",
            "text/plain": [
              "<Figure size 432x288 with 7 Axes>"
            ]
          },
          "metadata": {
            "tags": [],
            "needs_background": "light"
          }
        }
      ]
    },
    {
      "cell_type": "code",
      "metadata": {
        "id": "fcEWtoYN-A66",
        "colab_type": "code",
        "colab": {}
      },
      "source": [
        "# convert series to supervised learning\n",
        "\n",
        "def series_to_supervised(data, n_in=1, n_out=1, dropnan=True):\n",
        "    n_vars = 1 if type(data) is list else data.shape[1]\n",
        "    df = pd.DataFrame(data)\n",
        "    cols, names = list(), list()\n",
        "    \n",
        "    # input sequence (t-n, ... t-1)\n",
        "    for i in range(n_in, 0, -1):\n",
        "        cols.append(df.shift(i))\n",
        "        names += [('var%d(t-%d)' % (j+1, i)) for j in range(n_vars)]\n",
        "    \n",
        "    # forecast sequence (t, t+1, ... t+n)\n",
        "    for i in range(0, n_out):\n",
        "        cols.append(df.shift(-i))\n",
        "        if i == 0:\n",
        "            names += [('var%d(t)' % (j+1)) for j in range(n_vars)]\n",
        "        else:\n",
        "            names += [('var%d(t+%d)' % (j+1, i)) for j in range(n_vars)]\n",
        "    \n",
        "    # put it all together\n",
        "    agg = pd.concat(cols, axis=1)\n",
        "    agg.columns = names\n",
        "    \n",
        "    # drop rows with NaN values\n",
        "    if dropnan:\n",
        "        agg.dropna(inplace=True)\n",
        "    return agg"
      ],
      "execution_count": 0,
      "outputs": []
    },
    {
      "cell_type": "code",
      "metadata": {
        "id": "H9-xZk3k-A6-",
        "colab_type": "code",
        "colab": {
          "base_uri": "https://localhost:8080/",
          "height": 157
        },
        "outputId": "14b4319b-506f-4c7d-fa34-104ee2534fbc"
      },
      "source": [
        "# integer encode direction\n",
        "encoder = LabelEncoder()\n",
        "values[:,4] = encoder.fit_transform(values[:,4])\n",
        "\n",
        "# ensure all data is float\n",
        "values = values.astype('float32')\n",
        "\n",
        "# normalize features\n",
        "scaler = MinMaxScaler(feature_range=(0, 1))\n",
        "scaled = scaler.fit_transform(values)\n",
        "\n",
        "# frame as supervised learning\n",
        "reframed = series_to_supervised(scaled, 1, 1)\n",
        "# drop columns we don't want to predict\n",
        "reframed.drop(reframed.columns[[9,10,11,12,13,14,15]], axis=1, inplace=True)\n",
        "print(reframed.head())"
      ],
      "execution_count": 7,
      "outputs": [
        {
          "output_type": "stream",
          "text": [
            "   var1(t-1)  var2(t-1)  var3(t-1)  ...  var7(t-1)  var8(t-1)   var1(t)\n",
            "1   0.129779   0.352941   0.245902  ...   0.000000        0.0  0.148893\n",
            "2   0.148893   0.367647   0.245902  ...   0.000000        0.0  0.159960\n",
            "3   0.159960   0.426471   0.229508  ...   0.000000        0.0  0.182093\n",
            "4   0.182093   0.485294   0.229508  ...   0.037037        0.0  0.138833\n",
            "5   0.138833   0.485294   0.229508  ...   0.074074        0.0  0.109658\n",
            "\n",
            "[5 rows x 9 columns]\n"
          ],
          "name": "stdout"
        }
      ]
    },
    {
      "cell_type": "markdown",
      "metadata": {
        "id": "VE-GJEwP-A7C",
        "colab_type": "text"
      },
      "source": [
        "### Now you have X and y, slice them into training and test dataset."
      ]
    },
    {
      "cell_type": "code",
      "metadata": {
        "id": "pcOcuTG5-A7D",
        "colab_type": "code",
        "colab": {
          "base_uri": "https://localhost:8080/",
          "height": 34
        },
        "outputId": "7456ce1b-be25-4f14-a8a2-fcbba0b923f2"
      },
      "source": [
        "# split into train and test sets\n",
        "values = reframed.values\n",
        "n_train_hours = 365 * 24\n",
        "train = values[:n_train_hours, :]\n",
        "test = values[n_train_hours:, :]\n",
        "\n",
        "# split into input and outputs\n",
        "Xtrain, Ytrain = train[:, :-1], train[:, -1]\n",
        "Xtest, Ytest = test[:, :-1], test[:, -1]\n",
        "\n",
        "### RNN needs 3D input\n",
        "# reshape input to be 3D [samples, timesteps, features]\n",
        "Xtrain = Xtrain.reshape((Xtrain.shape[0], 1, Xtrain.shape[1]))\n",
        "Xtest = Xtest.reshape((Xtest.shape[0], 1, Xtest.shape[1]))\n",
        "print(Xtrain.shape, Ytrain.shape, Xtest.shape, Ytest.shape)"
      ],
      "execution_count": 8,
      "outputs": [
        {
          "output_type": "stream",
          "text": [
            "(8760, 1, 8) (8760,) (35039, 1, 8) (35039,)\n"
          ],
          "name": "stdout"
        }
      ]
    },
    {
      "cell_type": "markdown",
      "metadata": {
        "id": "iX9XaxSZ-A7H",
        "colab_type": "text"
      },
      "source": [
        "## GRU RNN"
      ]
    },
    {
      "cell_type": "code",
      "metadata": {
        "id": "s6ApYSj3-A7H",
        "colab_type": "code",
        "colab": {
          "base_uri": "https://localhost:8080/",
          "height": 228
        },
        "outputId": "6e0ab602-a713-4ec9-bbbc-61e152a42e41"
      },
      "source": [
        "gruModel = keras.models.Sequential()\n",
        "\n",
        "gruModel.add(keras.layers.GRU(50, input_shape=(Xtrain.shape[1], Xtrain.shape[2])))\n",
        "\n",
        "gruModel.add(keras.layers.Dense(1))\n",
        "\n",
        "gruModel.summary()"
      ],
      "execution_count": 9,
      "outputs": [
        {
          "output_type": "stream",
          "text": [
            "Model: \"sequential\"\n",
            "_________________________________________________________________\n",
            "Layer (type)                 Output Shape              Param #   \n",
            "=================================================================\n",
            "gru (GRU)                    (None, 50)                9000      \n",
            "_________________________________________________________________\n",
            "dense (Dense)                (None, 1)                 51        \n",
            "=================================================================\n",
            "Total params: 9,051\n",
            "Trainable params: 9,051\n",
            "Non-trainable params: 0\n",
            "_________________________________________________________________\n"
          ],
          "name": "stdout"
        }
      ]
    },
    {
      "cell_type": "code",
      "metadata": {
        "id": "LEef7S99-A7L",
        "colab_type": "code",
        "colab": {}
      },
      "source": [
        "# Configure  the model for training, by using appropriate optimizers and regularizations\n",
        "# Available optimizer: adam, rmsprop, adagrad, sgd\n",
        "# loss:  objective that the model will try to minimize. \n",
        "# Available loss: categorical_crossentropy, binary_crossentropy, mean_squared_error\n",
        "# metrics: List of metrics to be evaluated by the model during training and testing. \n",
        "\n",
        "gruModel.compile(loss='mae', optimizer='adam', metrics=['mae'])"
      ],
      "execution_count": 0,
      "outputs": []
    },
    {
      "cell_type": "code",
      "metadata": {
        "id": "bbrpQSpO-A7O",
        "colab_type": "code",
        "colab": {
          "base_uri": "https://localhost:8080/",
          "height": 1000
        },
        "outputId": "7e7a6f65-49b5-4c63-aa7a-4d80f87d8273"
      },
      "source": [
        "# train the model\n",
        "\n",
        "history = gruModel.fit(Xtrain, Ytrain, epochs = 50, batch_size=72, validation_split=0.1, verbose=1 )"
      ],
      "execution_count": 11,
      "outputs": [
        {
          "output_type": "stream",
          "text": [
            "Epoch 1/50\n",
            "110/110 [==============================] - 1s 8ms/step - loss: 0.0453 - mae: 0.0454 - val_loss: 0.0252 - val_mae: 0.0259\n",
            "Epoch 2/50\n",
            "110/110 [==============================] - 0s 4ms/step - loss: 0.0177 - mae: 0.0177 - val_loss: 0.0139 - val_mae: 0.0145\n",
            "Epoch 3/50\n",
            "110/110 [==============================] - 0s 4ms/step - loss: 0.0145 - mae: 0.0145 - val_loss: 0.0130 - val_mae: 0.0136\n",
            "Epoch 4/50\n",
            "110/110 [==============================] - 0s 4ms/step - loss: 0.0145 - mae: 0.0146 - val_loss: 0.0129 - val_mae: 0.0136\n",
            "Epoch 5/50\n",
            "110/110 [==============================] - 0s 4ms/step - loss: 0.0143 - mae: 0.0143 - val_loss: 0.0143 - val_mae: 0.0147\n",
            "Epoch 6/50\n",
            "110/110 [==============================] - 0s 4ms/step - loss: 0.0144 - mae: 0.0144 - val_loss: 0.0146 - val_mae: 0.0150\n",
            "Epoch 7/50\n",
            "110/110 [==============================] - 0s 4ms/step - loss: 0.0145 - mae: 0.0145 - val_loss: 0.0130 - val_mae: 0.0137\n",
            "Epoch 8/50\n",
            "110/110 [==============================] - 0s 4ms/step - loss: 0.0144 - mae: 0.0143 - val_loss: 0.0129 - val_mae: 0.0135\n",
            "Epoch 9/50\n",
            "110/110 [==============================] - 0s 4ms/step - loss: 0.0143 - mae: 0.0143 - val_loss: 0.0130 - val_mae: 0.0136\n",
            "Epoch 10/50\n",
            "110/110 [==============================] - 0s 4ms/step - loss: 0.0142 - mae: 0.0142 - val_loss: 0.0128 - val_mae: 0.0135\n",
            "Epoch 11/50\n",
            "110/110 [==============================] - 0s 4ms/step - loss: 0.0146 - mae: 0.0146 - val_loss: 0.0137 - val_mae: 0.0142\n",
            "Epoch 12/50\n",
            "110/110 [==============================] - 0s 4ms/step - loss: 0.0142 - mae: 0.0143 - val_loss: 0.0129 - val_mae: 0.0135\n",
            "Epoch 13/50\n",
            "110/110 [==============================] - 0s 4ms/step - loss: 0.0143 - mae: 0.0143 - val_loss: 0.0128 - val_mae: 0.0135\n",
            "Epoch 14/50\n",
            "110/110 [==============================] - 0s 4ms/step - loss: 0.0143 - mae: 0.0143 - val_loss: 0.0130 - val_mae: 0.0136\n",
            "Epoch 15/50\n",
            "110/110 [==============================] - 0s 4ms/step - loss: 0.0143 - mae: 0.0144 - val_loss: 0.0132 - val_mae: 0.0137\n",
            "Epoch 16/50\n",
            "110/110 [==============================] - 0s 4ms/step - loss: 0.0144 - mae: 0.0144 - val_loss: 0.0133 - val_mae: 0.0139\n",
            "Epoch 17/50\n",
            "110/110 [==============================] - 0s 4ms/step - loss: 0.0142 - mae: 0.0142 - val_loss: 0.0131 - val_mae: 0.0137\n",
            "Epoch 18/50\n",
            "110/110 [==============================] - 0s 4ms/step - loss: 0.0141 - mae: 0.0142 - val_loss: 0.0131 - val_mae: 0.0137\n",
            "Epoch 19/50\n",
            "110/110 [==============================] - 0s 4ms/step - loss: 0.0142 - mae: 0.0142 - val_loss: 0.0128 - val_mae: 0.0134\n",
            "Epoch 20/50\n",
            "110/110 [==============================] - 0s 4ms/step - loss: 0.0145 - mae: 0.0145 - val_loss: 0.0151 - val_mae: 0.0155\n",
            "Epoch 21/50\n",
            "110/110 [==============================] - 0s 4ms/step - loss: 0.0143 - mae: 0.0143 - val_loss: 0.0144 - val_mae: 0.0149\n",
            "Epoch 22/50\n",
            "110/110 [==============================] - 0s 4ms/step - loss: 0.0142 - mae: 0.0142 - val_loss: 0.0132 - val_mae: 0.0138\n",
            "Epoch 23/50\n",
            "110/110 [==============================] - 0s 4ms/step - loss: 0.0142 - mae: 0.0142 - val_loss: 0.0137 - val_mae: 0.0143\n",
            "Epoch 24/50\n",
            "110/110 [==============================] - 0s 4ms/step - loss: 0.0143 - mae: 0.0143 - val_loss: 0.0160 - val_mae: 0.0164\n",
            "Epoch 25/50\n",
            "110/110 [==============================] - 0s 4ms/step - loss: 0.0145 - mae: 0.0145 - val_loss: 0.0132 - val_mae: 0.0137\n",
            "Epoch 26/50\n",
            "110/110 [==============================] - 0s 4ms/step - loss: 0.0143 - mae: 0.0143 - val_loss: 0.0130 - val_mae: 0.0136\n",
            "Epoch 27/50\n",
            "110/110 [==============================] - 0s 4ms/step - loss: 0.0142 - mae: 0.0142 - val_loss: 0.0129 - val_mae: 0.0135\n",
            "Epoch 28/50\n",
            "110/110 [==============================] - 0s 4ms/step - loss: 0.0142 - mae: 0.0142 - val_loss: 0.0129 - val_mae: 0.0135\n",
            "Epoch 29/50\n",
            "110/110 [==============================] - 0s 4ms/step - loss: 0.0142 - mae: 0.0142 - val_loss: 0.0130 - val_mae: 0.0136\n",
            "Epoch 30/50\n",
            "110/110 [==============================] - 0s 4ms/step - loss: 0.0145 - mae: 0.0145 - val_loss: 0.0132 - val_mae: 0.0137\n",
            "Epoch 31/50\n",
            "110/110 [==============================] - 0s 4ms/step - loss: 0.0143 - mae: 0.0143 - val_loss: 0.0152 - val_mae: 0.0156\n",
            "Epoch 32/50\n",
            "110/110 [==============================] - 0s 4ms/step - loss: 0.0146 - mae: 0.0146 - val_loss: 0.0130 - val_mae: 0.0136\n",
            "Epoch 33/50\n",
            "110/110 [==============================] - 0s 4ms/step - loss: 0.0143 - mae: 0.0143 - val_loss: 0.0136 - val_mae: 0.0141\n",
            "Epoch 34/50\n",
            "110/110 [==============================] - 0s 4ms/step - loss: 0.0142 - mae: 0.0142 - val_loss: 0.0132 - val_mae: 0.0137\n",
            "Epoch 35/50\n",
            "110/110 [==============================] - 0s 4ms/step - loss: 0.0144 - mae: 0.0144 - val_loss: 0.0129 - val_mae: 0.0135\n",
            "Epoch 36/50\n",
            "110/110 [==============================] - 0s 4ms/step - loss: 0.0141 - mae: 0.0141 - val_loss: 0.0140 - val_mae: 0.0145\n",
            "Epoch 37/50\n",
            "110/110 [==============================] - 0s 4ms/step - loss: 0.0143 - mae: 0.0143 - val_loss: 0.0129 - val_mae: 0.0135\n",
            "Epoch 38/50\n",
            "110/110 [==============================] - 0s 4ms/step - loss: 0.0142 - mae: 0.0142 - val_loss: 0.0130 - val_mae: 0.0135\n",
            "Epoch 39/50\n",
            "110/110 [==============================] - 0s 4ms/step - loss: 0.0142 - mae: 0.0142 - val_loss: 0.0139 - val_mae: 0.0144\n",
            "Epoch 40/50\n",
            "110/110 [==============================] - 0s 4ms/step - loss: 0.0142 - mae: 0.0143 - val_loss: 0.0130 - val_mae: 0.0136\n",
            "Epoch 41/50\n",
            "110/110 [==============================] - 0s 4ms/step - loss: 0.0142 - mae: 0.0143 - val_loss: 0.0130 - val_mae: 0.0136\n",
            "Epoch 42/50\n",
            "110/110 [==============================] - 0s 4ms/step - loss: 0.0141 - mae: 0.0141 - val_loss: 0.0131 - val_mae: 0.0136\n",
            "Epoch 43/50\n",
            "110/110 [==============================] - 0s 4ms/step - loss: 0.0142 - mae: 0.0142 - val_loss: 0.0128 - val_mae: 0.0134\n",
            "Epoch 44/50\n",
            "110/110 [==============================] - 0s 4ms/step - loss: 0.0142 - mae: 0.0142 - val_loss: 0.0133 - val_mae: 0.0139\n",
            "Epoch 45/50\n",
            "110/110 [==============================] - 0s 4ms/step - loss: 0.0143 - mae: 0.0142 - val_loss: 0.0133 - val_mae: 0.0139\n",
            "Epoch 46/50\n",
            "110/110 [==============================] - 0s 4ms/step - loss: 0.0144 - mae: 0.0144 - val_loss: 0.0131 - val_mae: 0.0137\n",
            "Epoch 47/50\n",
            "110/110 [==============================] - 0s 4ms/step - loss: 0.0143 - mae: 0.0143 - val_loss: 0.0130 - val_mae: 0.0136\n",
            "Epoch 48/50\n",
            "110/110 [==============================] - 0s 4ms/step - loss: 0.0141 - mae: 0.0141 - val_loss: 0.0136 - val_mae: 0.0142\n",
            "Epoch 49/50\n",
            "110/110 [==============================] - 0s 4ms/step - loss: 0.0142 - mae: 0.0142 - val_loss: 0.0130 - val_mae: 0.0137\n",
            "Epoch 50/50\n",
            "110/110 [==============================] - 0s 4ms/step - loss: 0.0142 - mae: 0.0142 - val_loss: 0.0131 - val_mae: 0.0137\n"
          ],
          "name": "stdout"
        }
      ]
    },
    {
      "cell_type": "code",
      "metadata": {
        "id": "n-ovKwS--A7U",
        "colab_type": "code",
        "colab": {
          "base_uri": "https://localhost:8080/",
          "height": 295
        },
        "outputId": "625c04c0-ae68-4469-8455-ac36ff2cb3a6"
      },
      "source": [
        "# plotting training and validation loss\n",
        "\n",
        "loss = history.history['loss']\n",
        "val_loss = history.history['val_loss']\n",
        "epochs = range(1, len(loss) + 1)\n",
        "plt.plot(epochs, loss, color='red', label='Training loss')\n",
        "plt.plot(epochs, val_loss, color='green', label='Validation loss')\n",
        "plt.title('Training and Validation loss')\n",
        "plt.xlabel('Epochs')\n",
        "plt.ylabel('Loss')\n",
        "plt.legend()\n",
        "plt.show()\n",
        "\n"
      ],
      "execution_count": 12,
      "outputs": [
        {
          "output_type": "display_data",
          "data": {
            "image/png": "[encoded data removed]",
            "text/plain": [
              "<Figure size 432x288 with 1 Axes>"
            ]
          },
          "metadata": {
            "tags": [],
            "needs_background": "light"
          }
        }
      ]
    },
    {
      "cell_type": "code",
      "metadata": {
        "id": "xWznfQsf-A7Z",
        "colab_type": "code",
        "colab": {
          "base_uri": "https://localhost:8080/",
          "height": 52
        },
        "outputId": "fa6fad0b-00b5-45df-e4e0-d4a12fb7bde4"
      },
      "source": [
        "testResult = gruModel.evaluate(Xtest, Ytest)\n",
        "print(testResult)"
      ],
      "execution_count": 13,
      "outputs": [
        {
          "output_type": "stream",
          "text": [
            "1095/1095 [==============================] - 3s 2ms/step - loss: 0.0133 - mae: 0.0133\n",
            "[0.01328060682862997, 0.01328081451356411]\n"
          ],
          "name": "stdout"
        }
      ]
    }
  ]
}