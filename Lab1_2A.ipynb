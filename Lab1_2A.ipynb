{
 "cells": [
  {
   "cell_type": "markdown",
   "metadata": {},
   "source": [
    "# Implementation of AND gate using Tensorflow."
   ]
  },
  {
   "cell_type": "markdown",
   "metadata": {},
   "source": [
    "This exercise implements the AND Gate using tensorflow, by using just a single layer soft perceptron, with sigmoid activation, cost function and Gradient descent optimization."
   ]
  },
  {
   "cell_type": "code",
   "execution_count": 2,
   "metadata": {
    "scrolled": true
   },
   "outputs": [],
   "source": [
    "# removes warning\n",
    "import warnings\n",
    "warnings.filterwarnings('ignore')\n",
    "\n",
    "\n",
    "# Importing packages.\n",
    "import tensorflow as tf\n",
    "import time\n"
   ]
  },
  {
   "cell_type": "code",
   "execution_count": 2,
   "metadata": {},
   "outputs": [],
   "source": [
    "#Creating dataset\n",
    "\n",
    "AND_X = [[0,0],[0,1],[1,0],[1,1]]\n",
    "AND_Y = [[0],[0],[0],[1]]"
   ]
  },
  {
   "cell_type": "code",
   "execution_count": 3,
   "metadata": {},
   "outputs": [],
   "source": [
    "# Creating placeholders for datasets.\n",
    "\n",
    "x_ = tf.placeholder(tf.float32, shape=[4,2], name = 'x-input')\n",
    "y_ = tf.placeholder(tf.float32, shape=[4,1], name = 'y-input')"
   ]
  },
  {
   "cell_type": "code",
   "execution_count": 4,
   "metadata": {},
   "outputs": [],
   "source": [
    "# Creating weights and biases\n",
    "\n",
    "Theta1 = tf.Variable(tf.random_uniform([2,1], -1, 1), name = \"Theta1\")\n",
    "\n",
    "Bias1 = tf.Variable(tf.zeros([1]), name = \"Bias1\")\n"
   ]
  },
  {
   "cell_type": "code",
   "execution_count": 5,
   "metadata": {},
   "outputs": [],
   "source": [
    "# output\n",
    "with tf.name_scope(\"soln\") as scope:\n",
    "    soln = tf.sigmoid(tf.matmul(x_, Theta1) + Bias1)\n"
   ]
  },
  {
   "cell_type": "code",
   "execution_count": 6,
   "metadata": {},
   "outputs": [],
   "source": [
    "# Defining cost function = log loss\n",
    "\n",
    "with tf.name_scope(\"cost\") as scope:\n",
    "    cost = tf.reduce_mean(( (y_ * tf.log(soln)) + \n",
    "        ((1 - y_) * tf.log(1.0 - soln)) ) * -1)\n",
    "\n"
   ]
  },
  {
   "cell_type": "code",
   "execution_count": 7,
   "metadata": {},
   "outputs": [],
   "source": [
    "# Defining training operation.\n",
    "\n",
    "with tf.name_scope(\"train\") as scope:\n",
    "    train_step = tf.train.GradientDescentOptimizer(0.01).minimize(cost)# learning rate = 0.01"
   ]
  },
  {
   "cell_type": "code",
   "execution_count": 8,
   "metadata": {},
   "outputs": [],
   "source": [
    "\n",
    "# Initilising variables and session.\n",
    "\n",
    "init = tf.global_variables_initializer()\n",
    "sess = tf.Session()\n",
    "sess.run(init)"
   ]
  },
  {
   "cell_type": "code",
   "execution_count": 9,
   "metadata": {},
   "outputs": [
    {
     "name": "stdout",
     "output_type": "stream",
     "text": [
      "Epoch  0\n",
      "Hypothesis  [[0.49925497]\n",
      " [0.50541   ]\n",
      " [0.589049  ]\n",
      " [0.5949956 ]]\n",
      "Theta1  [[0.36301544]\n",
      " [0.02462085]]\n",
      "Bias1  [-0.00297997]\n",
      "cost  0.7010417\n",
      "Epoch  1000\n",
      "Hypothesis  [[0.20755105]\n",
      " [0.29998586]\n",
      " [0.34118584]\n",
      " [0.45868725]]\n",
      "Theta1  [[0.6817366 ]\n",
      " [0.49238563]]\n",
      "Bias1  [-1.3397508]\n",
      "cost  0.4464956\n",
      "Epoch  2000\n",
      "Hypothesis  [[0.11950202]\n",
      " [0.27428362]\n",
      " [0.29710034]\n",
      " [0.54066336]]\n",
      "Theta1  [[1.13601  ]\n",
      " [1.0241575]]\n",
      "Bias1  [-1.9971542]\n",
      "cost  0.35384083\n",
      "Epoch  3000\n",
      "Hypothesis  [[0.07419116]\n",
      " [0.25173208]\n",
      " [0.26479828]\n",
      " [0.60191494]]\n",
      "Theta1  [[1.5028462]\n",
      " [1.4346272]]\n",
      "Bias1  [-2.5240228]\n",
      "cost  0.29558277\n",
      "Epoch  4000\n",
      "Hypothesis  [[0.04878529]\n",
      " [0.23097904]\n",
      " [0.23868592]\n",
      " [0.64739823]]\n",
      "Theta1  [[1.8104135]\n",
      " [1.7675196]]\n",
      "Bias1  [-2.970311]\n",
      "cost  0.25503886\n",
      "Epoch  5000\n",
      "Hypothesis  [[0.0335968]\n",
      " [0.2124908]\n",
      " [0.2171723]\n",
      " [0.6828612]]\n",
      "Theta1  [[2.0769286]\n",
      " [2.0491738]]\n",
      "Bias1  [-3.3591502]\n",
      "cost  0.22484016\n",
      "Epoch  6000\n",
      "Hypothesis  [[0.02401667]\n",
      " [0.19621362]\n",
      " [0.19913764]\n",
      " [0.71153986]]\n",
      "Theta1  [[2.3130043]\n",
      " [2.2945676]]\n",
      "Bias1  [-3.7046971]\n",
      "cost  0.20128039\n",
      "Epoch  7000\n",
      "Hypothesis  [[0.01770127]\n",
      " [0.18191375]\n",
      " [0.18378833]\n",
      " [0.73534936]]\n",
      "Theta1  [[2.5253701]\n",
      " [2.512824 ]]\n",
      "Bias1  [-4.016259]\n",
      "cost  0.1822846\n",
      "Epoch  8000\n",
      "Hypothesis  [[0.01338307]\n",
      " [0.16932608]\n",
      " [0.17055702]\n",
      " [0.7555058 ]]\n",
      "Theta1  [[2.7186065]\n",
      " [2.70988  ]]\n",
      "Bias1  [-4.300291]\n",
      "cost  0.16659003\n",
      "Epoch  9000\n",
      "Hypothesis  [[0.01033862]\n",
      " [0.15820311]\n",
      " [0.15902948]\n",
      " [0.7728283 ]]\n",
      "Theta1  [[2.8960092]\n",
      " [2.8898172]]\n",
      "Bias1  [-4.561476]\n",
      "cost  0.1533765\n",
      "Elapsed time  2.6810590000000003\n"
     ]
    }
   ],
   "source": [
    "# running the tf session\n",
    "t_start = time.clock()\n",
    "for i in range(10000):\n",
    "    sess.run(train_step, feed_dict={x_: AND_X, y_: AND_Y})\n",
    "    if i % 1000 == 0:\n",
    "        print('Epoch ', i)\n",
    "        print('Result ', sess.run(soln, feed_dict={x_: AND_X, y_: AND_Y}))\n",
    "        print('Theta1 ', sess.run(Theta1))\n",
    "        print('Bias1 ', sess.run(Bias1))\n",
    "        print('cost ', sess.run(cost, feed_dict={x_: AND_X, y_: AND_Y}))\n",
    "t_end = time.clock()\n",
    "\n",
    "print('Elapsed time ', t_end - t_start)"
   ]
  },
  {
   "cell_type": "code",
   "execution_count": null,
   "metadata": {},
   "outputs": [],
   "source": []
  }
 ],
 "metadata": {
  "kernelspec": {
   "display_name": "Python 3",
   "language": "python",
   "name": "python3"
  },
  "language_info": {
   "codemirror_mode": {
    "name": "ipython",
    "version": 3
   },
   "file_extension": ".py",
   "mimetype": "text/x-python",
   "name": "python",
   "nbconvert_exporter": "python",
   "pygments_lexer": "ipython3",
   "version": "3.6.9"
  }
 },
 "nbformat": 4,
 "nbformat_minor": 2
}
